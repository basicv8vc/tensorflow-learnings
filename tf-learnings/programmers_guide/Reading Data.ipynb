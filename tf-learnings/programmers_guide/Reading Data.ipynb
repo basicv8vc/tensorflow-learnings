{
 "cells": [
  {
   "cell_type": "markdown",
   "metadata": {
    "deletable": true,
    "editable": true
   },
   "source": [
    "# Reading Data"
   ]
  },
  {
   "cell_type": "markdown",
   "metadata": {
    "deletable": true,
    "editable": true
   },
   "source": [
    "TensorFlow程序获取数据的方法主要有三种：\n",
    "* Feeding：Python代码提供数据\n",
    "* Reading from files: 从文件读取数据\n",
    "* Preloaded data: TensorFlow计算图中用constant或variable保存数据（只能是小数据集）"
   ]
  },
  {
   "cell_type": "markdown",
   "metadata": {
    "deletable": true,
    "editable": true
   },
   "source": [
    "## Feeding"
   ]
  },
  {
   "cell_type": "markdown",
   "metadata": {
    "deletable": true,
    "editable": true
   },
   "source": [
    "TensorFlow的Feeding机制允许你为计算图中任意Tensor注入数据。Python中可以直接为图节点提供数据。\n",
    "\n",
    "为run()或eval()的`feed_dict`参数提供数据。"
   ]
  },
  {
   "cell_type": "code",
   "execution_count": null,
   "metadata": {
    "collapsed": true,
    "deletable": true,
    "editable": true
   },
   "outputs": [],
   "source": [
    "with tf.Session():\n",
    "    input = tf.placeholder(tf.float32)\n",
    "    classifier = ...\n",
    "    print(classifier.eval(feed_dict={input: my_python_preprocessing_fn()}))"
   ]
  },
  {
   "cell_type": "markdown",
   "metadata": {
    "deletable": true,
    "editable": true
   },
   "source": [
    "你可以为任何Tensor进行feed数据，也包括constant和variable，我们建议还是为那些`tf.placholder`节点进行feed data。可以这么说，**placeholder存在的意义就是作为feed的目标**。如果你忘了给placeholder feed data，就执行程序，是会报错滴。\n",
    "\n",
    "\n"
   ]
  },
  {
   "cell_type": "markdown",
   "metadata": {
    "deletable": true,
    "editable": true
   },
   "source": [
    " "
   ]
  },
  {
   "cell_type": "markdown",
   "metadata": {
    "deletable": true,
    "editable": true
   },
   "source": [
    "## Reading from files "
   ]
  },
  {
   "cell_type": "markdown",
   "metadata": {
    "deletable": true,
    "editable": true
   },
   "source": [
    "如果要从文件读取数据，pipeline通常包括下面的步骤:\n",
    "\n",
    "* 1. 文件名列表\n",
    "* 2. （可选的）文件名shuffle\n",
    "* 3. (可选的) epoch limit\n",
    "* 4. 文件名队列\n",
    "* 5. Reader\n",
    "* 6. 解码器，解码reader读取的record\n",
    "* 7. （可选的）预处理\n",
    "* 8. 实力队列"
   ]
  },
  {
   "cell_type": "markdown",
   "metadata": {
    "deletable": true,
    "editable": true
   },
   "source": [
    " "
   ]
  },
  {
   "cell_type": "markdown",
   "metadata": {
    "deletable": true,
    "editable": true
   },
   "source": [
    "### 文件名、shuffling、epoch limit"
   ]
  },
  {
   "cell_type": "markdown",
   "metadata": {
    "deletable": true,
    "editable": true
   },
   "source": [
    "对于文件名列表，可以用一个string Tensor表示,[\"file0\", \"file1\"]或[(\"fiel%d\" %i) for i in range(2)]；也可以用`tf.train.match_filenames_once`方法。\n",
    "\n",
    "\n",
    "\n",
    "把文件名列表传给`tf.train.string_input_producer`方法。它会创建一个队列来保存文件名。\n",
    "\n"
   ]
  },
  {
   "cell_type": "markdown",
   "metadata": {
    "deletable": true,
    "editable": true
   },
   "source": [
    "#### 文件格式"
   ]
  },
  {
   "cell_type": "markdown",
   "metadata": {
    "deletable": true,
    "editable": true
   },
   "source": [
    "**CSV文件**"
   ]
  },
  {
   "cell_type": "markdown",
   "metadata": {
    "deletable": true,
    "editable": true
   },
   "source": [
    "使用`tf.TextLineReader`和`tf.decode_csv`读取csv文件："
   ]
  },
  {
   "cell_type": "code",
   "execution_count": 1,
   "metadata": {
    "collapsed": false,
    "deletable": true,
    "editable": true
   },
   "outputs": [
    {
     "name": "stdout",
     "output_type": "stream",
     "text": [
      "(array([1, 1, 1, 1], dtype=int32), 4, 1)\n",
      "(array([2, 2, 2, 2], dtype=int32), 5, 2)\n",
      "(array([1, 2, 1, 2], dtype=int32), 5, 3)\n",
      "(array([2, 1, 2, 1], dtype=int32), 6, 4)\n",
      "(array([1, 1, 1, 1], dtype=int32), 5, 5)\n",
      "(array([2, 2, 2, 2], dtype=int32), 6, 6)\n"
     ]
    }
   ],
   "source": [
    "import tensorflow as tf\n",
    "filename_queue = tf.train.string_input_producer([\"file0.csv\", \"file1.csv\"], num_epochs=1, shuffle=False)\n",
    "\n",
    "reader = tf.TextLineReader()\n",
    "key, value = reader.read(filename_queue)\n",
    "\n",
    "# 默认值\n",
    "record_defaults = [[1], [1], [1], [1], [1]]\n",
    "col1, col2, col3, col4, col5 = tf.decode_csv(\n",
    "        value, record_defaults=record_defaults)\n",
    "features = tf.stack([col1, col2, col3, col4])\n",
    "\n",
    "with tf.Session() as session:\n",
    "    # Start populating the filename queue\n",
    "    session.run(tf.global_variables_initializer())\n",
    "    session.run(tf.local_variables_initializer())\n",
    "    coord = tf.train.Coordinator()\n",
    "    threads = tf.train.start_queue_runners(coord=coord)\n",
    "    ct = 1\n",
    "    \n",
    "    while True:\n",
    "        try:\n",
    "            example, label = session.run([features, col5])\n",
    "            print(example, label, ct)\n",
    "            ct += 1\n",
    "        except tf.errors.OutOfRangeError:\n",
    "            break\n",
    "        \n",
    "    coord.request_stop()\n",
    "    coord.join(threads)\n",
    "    \n",
    "\n"
   ]
  },
  {
   "cell_type": "code",
   "execution_count": null,
   "metadata": {
    "collapsed": true,
    "deletable": true,
    "editable": true
   },
   "outputs": [],
   "source": []
  },
  {
   "cell_type": "code",
   "execution_count": null,
   "metadata": {
    "collapsed": true,
    "deletable": true,
    "editable": true
   },
   "outputs": [],
   "source": []
  },
  {
   "cell_type": "code",
   "execution_count": null,
   "metadata": {
    "collapsed": true,
    "deletable": true,
    "editable": true
   },
   "outputs": [],
   "source": []
  },
  {
   "cell_type": "code",
   "execution_count": null,
   "metadata": {
    "collapsed": true,
    "deletable": true,
    "editable": true
   },
   "outputs": [],
   "source": []
  }
 ],
 "metadata": {
  "kernelspec": {
   "display_name": "Python 2",
   "language": "python",
   "name": "python2"
  },
  "language_info": {
   "codemirror_mode": {
    "name": "ipython",
    "version": 2
   },
   "file_extension": ".py",
   "mimetype": "text/x-python",
   "name": "python",
   "nbconvert_exporter": "python",
   "pygments_lexer": "ipython2",
   "version": "2.7.6"
  }
 },
 "nbformat": 4,
 "nbformat_minor": 2
}
