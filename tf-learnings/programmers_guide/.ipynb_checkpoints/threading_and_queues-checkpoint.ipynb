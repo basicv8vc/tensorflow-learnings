{
 "cells": [
  {
   "cell_type": "markdown",
   "metadata": {
    "deletable": true,
    "editable": true
   },
   "source": [
    "# Threading and Queues"
   ]
  },
  {
   "cell_type": "markdown",
   "metadata": {
    "deletable": true,
    "editable": true
   },
   "source": [
    "队列(queue)是TensorFlow中实现异步计算的重要机制。\n",
    "\n",
    "一个队列也是计算图中的一个节点。和variable一样，队列是有状态的(stateful)节点：其他的节点可以修改它的值。具体地，可以对队列节点进行入队和出队操作。"
   ]
  },
  {
   "cell_type": "markdown",
   "metadata": {
    "deletable": true,
    "editable": true
   },
   "source": [
    "先看一个简单的例子。创建一个FIFOQueue，初始元素值为0。然后我们构建一个计算图，它从队列中取出一个元素，加1，再入队。"
   ]
  },
  {
   "cell_type": "markdown",
   "metadata": {
    "deletable": true,
    "editable": true
   },
   "source": [
    "tensorflow官网这个gif把整个过程描述的很清楚："
   ]
  },
  {
   "cell_type": "markdown",
   "metadata": {
    "deletable": true,
    "editable": true
   },
   "source": [
    "\n",
    " ![](http://odw1x7kgr.bkt.clouddn.com/IncremeterFifoQueue.gif)"
   ]
  },
  {
   "cell_type": "markdown",
   "metadata": {
    "deletable": true,
    "editable": true
   },
   "source": [
    " "
   ]
  },
  {
   "cell_type": "markdown",
   "metadata": {
    "deletable": true,
    "editable": true
   },
   "source": [
    "看一下FIFOQueue的构造方法:\n",
    "\n",
    "FIFOQueue supports multiple concurrent producers and consumers.\n",
    "\n",
    "FIFOQueue保存了一个列表的元素，capacity个元素。每个元素都是固定长度的tuple of tensors，它们的类型是dtypes参数给出，shapes由shapes参数给出。如果不给出shapes参数，不同的元素可以有不同的shape哦，但是这个时候就不能用dequeue_many方法了。\n",
    "\n",
    "__init__(capacity, dtypes, shapes=None, names=None, shared_name=None,\n",
    "        name='fifo_queue')\n",
    "\n",
    "* capacity: 整数。队列的最大容量。\n",
    "* dtypes: 一个DType列表。注意dtypes的长度必须等于每个队列元素的tensor个数。"
   ]
  },
  {
   "cell_type": "markdown",
   "metadata": {
    "deletable": true,
    "editable": true
   },
   "source": [
    " "
   ]
  },
  {
   "cell_type": "markdown",
   "metadata": {
    "deletable": true,
    "editable": true
   },
   "source": [
    "Enqueue、EnqueueMany、Dequeue是特殊的节点，他们接收一个指向队列的**指针**，可以更改队列元素。\n",
    "\n",
    "注意：队列方法（比如q.enqueu()）必须和队列在同一个device。"
   ]
  },
  {
   "cell_type": "markdown",
   "metadata": {
    "deletable": true,
    "editable": true
   },
   "source": [
    " "
   ]
  },
  {
   "cell_type": "markdown",
   "metadata": {
    "deletable": true,
    "editable": true
   },
   "source": [
    "## Queue usage overview"
   ]
  },
  {
   "cell_type": "markdown",
   "metadata": {
    "deletable": true,
    "editable": true
   },
   "source": [
    "队列，tf.FIFOQueue、tf.RandomShuffleQueue在=TF中很重要，主要用于异步计算tensor。\n"
   ]
  },
  {
   "cell_type": "markdown",
   "metadata": {
    "deletable": true,
    "editable": true
   },
   "source": [
    "比如，一个典型的输入框架需要用到RandomShuffleQueue：\n",
    "* 多个线程准备训练集样本，负责把样本push到队列\n",
    "* 一个训练线程执行训练op，它从队列中每次取mini-batch个样本"
   ]
  },
  {
   "cell_type": "markdown",
   "metadata": {
    "deletable": true,
    "editable": true
   },
   "source": [
    " "
   ]
  },
  {
   "cell_type": "markdown",
   "metadata": {
    "deletable": true,
    "editable": true
   },
   "source": [
    "`Session`是多线程的，所以多个线程可以使用同一个session，并行执行。然而，Python下编写多线程程序不容易：所有的线程必须能够全部stop，还要做到捕获异常，最后需要关掉队列。"
   ]
  },
  {
   "cell_type": "markdown",
   "metadata": {
    "deletable": true,
    "editable": true
   },
   "source": [
    "为此，tensorflow提供了两个类来协助多线程操作：tf.train.Coordinator和tf.train.QueueRunner。**这两个类要一起使用**。\n",
    "\n",
    "Coordinator类帮助多个线程stop，如果stop时发生异常，也负责报告异常。\n",
    "\n",
    "QueueRunner类用于创建多个线程来进行同一个队列的入队操作。"
   ]
  },
  {
   "cell_type": "markdown",
   "metadata": {
    "deletable": true,
    "editable": true
   },
   "source": [
    " \n"
   ]
  },
  {
   "cell_type": "markdown",
   "metadata": {
    "deletable": true,
    "editable": true
   },
   "source": [
    "  "
   ]
  },
  {
   "cell_type": "markdown",
   "metadata": {
    "deletable": true,
    "editable": true
   },
   "source": [
    "   "
   ]
  },
  {
   "cell_type": "markdown",
   "metadata": {
    "deletable": true,
    "editable": true
   },
   "source": [
    "### Coordinator"
   ]
  },
  {
   "cell_type": "markdown",
   "metadata": {
    "deletable": true,
    "editable": true
   },
   "source": [
    "Coordinator帮助多个线程stop。"
   ]
  },
  {
   "cell_type": "markdown",
   "metadata": {
    "deletable": true,
    "editable": true
   },
   "source": [
    "它的主要几个方法：\n",
    "* tf.train.Coordinator.should_stop: 如果线程应该stop返回True\n",
    "* tf.train.Coordinator.request_stop: 请求线程应该stop\n",
    "* tf.train.Coordinator.join: 等待直到指定的线程已经stopped"
   ]
  },
  {
   "cell_type": "markdown",
   "metadata": {
    "deletable": true,
    "editable": true
   },
   "source": [
    " "
   ]
  },
  {
   "cell_type": "markdown",
   "metadata": {
    "deletable": true,
    "editable": true
   },
   "source": [
    "你首先创建一个Coordinator对象，然后创建多个线程使用这个coordinator。\n",
    "\n",
    "任意一个线程都可以决定计算应该stop。它只需要调用`request_stop()`放，其他线程会stop只要should_stop()返回True。"
   ]
  },
  {
   "cell_type": "code",
   "execution_count": null,
   "metadata": {
    "collapsed": true,
    "deletable": true,
    "editable": true
   },
   "outputs": [],
   "source": [
    "# 线程主体： 循环，直到coordinator indicat 某个线程发起了stop请求\n",
    "def MyLoop(coord):\n",
    "    while not coord.should_stop():\n",
    "        do something\n",
    "        if some condition:\n",
    "            coord.request_stop()\n",
    "            \n",
    "# 主线程：创建一个Corodinator\n",
    "coord = tf.train.Coordinator()\n",
    "\n",
    "# 创建10个线程，执行MyLoop()\n",
    "threads = [threading.Thread(target=MyLoop, args=(coord, )) for i in range(10)]\n",
    "\n",
    "# 启动线程，等待他们stop\n",
    "for t in threads:\n",
    "    t.start()\n",
    "\n",
    "coord.join(threads)"
   ]
  },
  {
   "cell_type": "markdown",
   "metadata": {
    "deletable": true,
    "editable": true
   },
   "source": [
    "不同的线程可以做不同的事情，并不是必须执行相同的代码，不论线程的任务相不相同，都可以用Coordinator管理。\n",
    "\n",
    "如果stop时发生异常，Coordinator也会捕捉并报告。"
   ]
  },
  {
   "cell_type": "markdown",
   "metadata": {
    "deletable": true,
    "editable": true
   },
   "source": [
    " "
   ]
  },
  {
   "cell_type": "markdown",
   "metadata": {
    "deletable": true,
    "editable": true
   },
   "source": [
    "  "
   ]
  },
  {
   "cell_type": "markdown",
   "metadata": {
    "deletable": true,
    "editable": true
   },
   "source": [
    "   "
   ]
  },
  {
   "cell_type": "markdown",
   "metadata": {
    "deletable": true,
    "editable": true
   },
   "source": [
    "### QueueRunner"
   ]
  },
  {
   "cell_type": "markdown",
   "metadata": {
    "collapsed": true,
    "deletable": true,
    "editable": true
   },
   "source": [
    "QueueRunner类用于创建多个线程重复地执行入队列操作。这些线程可以用coordinator来stop。另外，queue runner还执行了一个colser线程，如果coordinator报告有异常，closer线程会自动地关闭队列。\n",
    "\n",
    "\n",
    "数据读取的框架是少不了queue runner的。"
   ]
  },
  {
   "cell_type": "markdown",
   "metadata": {
    "deletable": true,
    "editable": true
   },
   "source": [
    "首先创建一个是用队列的图用于输入样本。然后往图中添加处理样本的节点(op)和出队列的节点(op)。添加训练节点。"
   ]
  },
  {
   "cell_type": "code",
   "execution_count": null,
   "metadata": {
    "collapsed": true,
    "deletable": true,
    "editable": true
   },
   "outputs": [],
   "source": [
    "example = ...ops to create one example...\n",
    "# Create a queue, and an op that enquees examples one at a time in the queue\n",
    "queue = tf.RandomShuffleQueue(...)\n",
    "enqueue_op = queue.enqueue(example)\n",
    "# Create a training graph that starts by dequeuing a batch of examples\n",
    "inputs = queue.dequeue_many(batch_size)\n",
    "train_op = ...use 'inputs' to build the training part of the graph..."
   ]
  },
  {
   "cell_type": "markdown",
   "metadata": {
    "deletable": true,
    "editable": true
   },
   "source": [
    " "
   ]
  },
  {
   "cell_type": "code",
   "execution_count": null,
   "metadata": {
    "collapsed": true,
    "deletable": true,
    "editable": true
   },
   "outputs": [],
   "source": [
    "# Create a queue runner that will run 4 threads in parallel to enqueue\n",
    "qr = tf.train.QueueRunner(queue, [enqueue_op] * 4) # 如此简单\n",
    "\n",
    "# 启动计算图\n",
    "sess = tf.Session()\n",
    "# 创建一个Coordinator, 启动queue runner threads\n",
    "coord = tf.train.Coordinator()\n",
    "enqueue_threads = qr.create_threads(sess, coord=coord, start=True)\n",
    "# 执行循环，是用coordinator来控制线程的停止\n",
    "for step in xrange(1000000):\n",
    "    if coord.should_stop(): \n",
    "        break\n",
    "    sess.run(train_op)\n",
    "# 结束后，要求线程stop\n",
    "coord.request_stop()\n",
    "# 等待\n",
    "coord.join(enqueue_threads)"
   ]
  },
  {
   "cell_type": "markdown",
   "metadata": {},
   "source": [
    " 关于should_stop()\n",
    " \n",
    " Check if stop was requested. Return True if a stop was requested.\n",
    " "
   ]
  },
  {
   "cell_type": "markdown",
   "metadata": {},
   "source": [
    "  "
   ]
  },
  {
   "cell_type": "markdown",
   "metadata": {},
   "source": [
    "   "
   ]
  },
  {
   "cell_type": "markdown",
   "metadata": {},
   "source": [
    "### 处理异常"
   ]
  },
  {
   "cell_type": "markdown",
   "metadata": {},
   "source": [
    "queue runner启动的线程不仅仅要做入队操作，它们还肩负捕获、处理队列异常的任务，包括tf.errors.OutOfRangeError异常，这个异常说明队列已经关闭了。"
   ]
  },
  {
   "cell_type": "markdown",
   "metadata": {},
   "source": [
    "A training program that uses a coordinator must similarly catch and report exceptions in its main loop."
   ]
  },
  {
   "cell_type": "code",
   "execution_count": null,
   "metadata": {
    "collapsed": true
   },
   "outputs": [],
   "source": [
    "try:\n",
    "    for step in xrange(1000000):\n",
    "        if coord.should_stop():\n",
    "            break\n",
    "        sess.run(train_op)\n",
    "except Exception, e:\n",
    "    # Report exceptions to the coordinator.\n",
    "    coord.request_stop(e)\n",
    "finally:\n",
    "    # Terminate as usual. It is safe to call `coord.request_stop()` twice.\n",
    "    coord.request_stop()\n",
    "    coord.join(threads)"
   ]
  },
  {
   "cell_type": "code",
   "execution_count": null,
   "metadata": {
    "collapsed": true
   },
   "outputs": [],
   "source": []
  },
  {
   "cell_type": "code",
   "execution_count": null,
   "metadata": {
    "collapsed": true
   },
   "outputs": [],
   "source": []
  },
  {
   "cell_type": "code",
   "execution_count": null,
   "metadata": {
    "collapsed": true
   },
   "outputs": [],
   "source": []
  }
 ],
 "metadata": {
  "kernelspec": {
   "display_name": "Python 2",
   "language": "python",
   "name": "python2"
  },
  "language_info": {
   "codemirror_mode": {
    "name": "ipython",
    "version": 2
   },
   "file_extension": ".py",
   "mimetype": "text/x-python",
   "name": "python",
   "nbconvert_exporter": "python",
   "pygments_lexer": "ipython2",
   "version": "2.7.6"
  }
 },
 "nbformat": 4,
 "nbformat_minor": 2
}
