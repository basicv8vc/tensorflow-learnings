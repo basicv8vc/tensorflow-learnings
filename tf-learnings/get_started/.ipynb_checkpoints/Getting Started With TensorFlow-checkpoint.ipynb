{
 "cells": [
  {
   "cell_type": "markdown",
   "metadata": {
    "deletable": true,
    "editable": true
   },
   "source": [
    "# Getting Started with TensorFlow\n",
    "Tensorflow提供了不同层次的API，最底层的API是**Tensorflow Core**，它提供了最完整最全面的API。我们建议机器学习研究人员和那些想要完全掌握模型细节的工程师使用Tensorflow Core。为了简化Tensorflow的使用，Tensorflow还提供了接口简单的高层的API，高层API都建立在Tensorflow Core之上。建议初学者使用这些高层API学习。注意，许多高层API方法包含`contrib`，这意味着这些API还处在开发阶段，处于开发阶段的方法将来可能随时改变甚至被删掉。\n",
    "\n",
    "\n",
    "我们先学习Tensorflow Core，接下来使用tf.contrib.learn实现相同的模型。只有了解Tensorflow Core才能知道高层API的内部工作方式。"
   ]
  },
  {
   "cell_type": "markdown",
   "metadata": {
    "deletable": true,
    "editable": true
   },
   "source": [
    "\n",
    "## Tensors\n",
    "\n",
    "Tensorflow中的核心概念是**tensor**。tensor，也就是张量，维度任意，元素类型相同。用**rank**表示tensor的维度："
   ]
  },
  {
   "cell_type": "markdown",
   "metadata": {
    "deletable": true,
    "editable": true
   },
   "source": [
    " "
   ]
  },
  {
   "cell_type": "code",
   "execution_count": 6,
   "metadata": {
    "collapsed": false,
    "deletable": true,
    "editable": true
   },
   "outputs": [
    {
     "data": {
      "text/plain": [
       "[[[1.0, 2.0, 3.0]], [[7.0, 8.0, 9.0]]]"
      ]
     },
     "execution_count": 6,
     "metadata": {},
     "output_type": "execute_result"
    }
   ],
   "source": [
    "3 # 常数的rank是0，shape是[]\n",
    "[1. ,2., 3.] # rank是1，这是一个向量，shape是[3]\n",
    "[[1., 2., 3], [4., 5., 6]] # rank是2，这是一个矩阵，shape是[2, 3]\n",
    "[[[1. ,2., 3.]], [[7., 8., 9.]]] # rank是3，shape是[2, 1, 3]\n",
    "# rank=前面的[个数\n"
   ]
  },
  {
   "cell_type": "markdown",
   "metadata": {
    "deletable": true,
    "editable": true
   },
   "source": [
    " "
   ]
  },
  {
   "cell_type": "markdown",
   "metadata": {
    "deletable": true,
    "editable": true
   },
   "source": [
    "\n",
    "### Tensorflow Core tutorial\n",
    "\n",
    "#### Importing Tensorflow"
   ]
  },
  {
   "cell_type": "code",
   "execution_count": 2,
   "metadata": {
    "collapsed": true,
    "deletable": true,
    "editable": true
   },
   "outputs": [],
   "source": [
    "import tensorflow as tf"
   ]
  },
  {
   "cell_type": "markdown",
   "metadata": {
    "deletable": true,
    "editable": true
   },
   "source": [
    "#### The Computational Graph\n",
    "\n",
    "你可以把Tensorflow Core程序理解为两个步骤：\n",
    "\n",
    "1. 创建computational graph\n",
    "\n",
    "2. 执行computational graph\n",
    "\n",
    "\n",
    "先来创建一个简单的计算图(computational graph)，每个节点都有>=0个tensor作为输入，和一个输出tensor。有一类节点是constant节点，这类节点不需要输入tensor，输出tensor即节点的存储值。\n",
    "\n",
    "我们来创建两个浮点tensor:"
   ]
  },
  {
   "cell_type": "code",
   "execution_count": 3,
   "metadata": {
    "collapsed": false,
    "deletable": true,
    "editable": true
   },
   "outputs": [
    {
     "name": "stdout",
     "output_type": "stream",
     "text": [
      "(<tf.Tensor 'Const:0' shape=() dtype=float32>, <tf.Tensor 'Const_1:0' shape=() dtype=float32>)\n"
     ]
    }
   ],
   "source": [
    "node1 = tf.constant(3.0, tf.float32)\n",
    "node2 = tf.constant(4.0) # 默认是tf.float32\n",
    "print(node1, node2)"
   ]
  },
  {
   "cell_type": "markdown",
   "metadata": {
    "deletable": true,
    "editable": true
   },
   "source": [
    " "
   ]
  },
  {
   "cell_type": "markdown",
   "metadata": {
    "deletable": true,
    "editable": true
   },
   "source": [
    "注意print并不会输出3.0和4.0的值。相反，输出的是两个节点，只有求值(evaluate)才会产生3.0和4.0。只有在**session**内执行计算图，才能对节点求值。一个session包含了Tensorflow运行时的控制和状态。\n",
    "\n",
    "\n",
    "\n",
    "接下来创建一个`Session`对象，然后调用`run`方法来执行计算图，对两个节点求值。\n",
    "\n",
    "**run**方法通常接受最后一个节点做参数？"
   ]
  },
  {
   "cell_type": "code",
   "execution_count": 4,
   "metadata": {
    "collapsed": false,
    "deletable": true,
    "editable": true
   },
   "outputs": [
    {
     "name": "stdout",
     "output_type": "stream",
     "text": [
      "[3.0, 4.0]\n"
     ]
    }
   ],
   "source": [
    "sess = tf.Session()\n",
    "print(sess.run([node1, node2]))"
   ]
  },
  {
   "cell_type": "markdown",
   "metadata": {
    "deletable": true,
    "editable": true
   },
   "source": [
    "Tensorflow中操作运算也是节点，我们来创建更复杂的计算图："
   ]
  },
  {
   "cell_type": "code",
   "execution_count": 5,
   "metadata": {
    "collapsed": false,
    "deletable": true,
    "editable": true
   },
   "outputs": [
    {
     "name": "stdout",
     "output_type": "stream",
     "text": [
      "('node3: ', <tf.Tensor 'Add:0' shape=() dtype=float32>)\n",
      "('sess.run(node3): ', 7.0)\n"
     ]
    }
   ],
   "source": [
    "node3 = tf.add(node1, node2)\n",
    "print(\"node3: \", node3)\n",
    "print(\"sess.run(node3): \", sess.run(node3))"
   ]
  },
  {
   "cell_type": "markdown",
   "metadata": {
    "deletable": true,
    "editable": true
   },
   "source": [
    "Tensorflow提供一个可视化模块TensorBoard，可以显示计算图。计算图也可以接受外部输入，这时需要使用**placeholder**。一个placeholder并不会在创建时提供初始值，而是在以后提供一个值。\n"
   ]
  },
  {
   "cell_type": "code",
   "execution_count": 6,
   "metadata": {
    "collapsed": true,
    "deletable": true,
    "editable": true
   },
   "outputs": [],
   "source": [
    "a = tf.placeholder(tf.float32)\n",
    "b = tf.placeholder(tf.float32)\n",
    "adder_node = a + b # + 等同于tf.add(a, b), 是缩写\n",
    "\n"
   ]
  },
  {
   "cell_type": "markdown",
   "metadata": {
    "deletable": true,
    "editable": true
   },
   "source": [
    "我们接下来对这个计算图求值，使用feed_dict参数来输入tensor值:\n"
   ]
  },
  {
   "cell_type": "code",
   "execution_count": 7,
   "metadata": {
    "collapsed": false,
    "deletable": true,
    "editable": true
   },
   "outputs": [
    {
     "name": "stdout",
     "output_type": "stream",
     "text": [
      "7.5\n",
      "[ 3.  7.]\n"
     ]
    }
   ],
   "source": [
    "print(sess.run(adder_node, {a: 3, b: 4.5}))\n",
    "print(sess.run(adder_node, {a: [1, 3], b: [2, 4]}))"
   ]
  },
  {
   "cell_type": "markdown",
   "metadata": {
    "deletable": true,
    "editable": true
   },
   "source": [
    "继续添加节点，"
   ]
  },
  {
   "cell_type": "code",
   "execution_count": 8,
   "metadata": {
    "collapsed": false,
    "deletable": true,
    "editable": true
   },
   "outputs": [
    {
     "name": "stdout",
     "output_type": "stream",
     "text": [
      "22.5\n"
     ]
    }
   ],
   "source": [
    "add_and_triple = adder_node * 3.\n",
    "print(sess.run(add_and_triple, {a: 3, b: 4.5}))"
   ]
  },
  {
   "cell_type": "markdown",
   "metadata": {
    "deletable": true,
    "editable": true
   },
   "source": [
    " "
   ]
  },
  {
   "cell_type": "markdown",
   "metadata": {
    "deletable": true,
    "editable": true
   },
   "source": [
    "机器学习模型都包含必不可少的参数，一般用**Variable**表示模型的参数，"
   ]
  },
  {
   "cell_type": "code",
   "execution_count": 9,
   "metadata": {
    "collapsed": true,
    "deletable": true,
    "editable": true
   },
   "outputs": [],
   "source": [
    "W = tf.Variable([.3], tf.float32)\n",
    "b = tf.Variable([-.3], tf.float32)\n",
    "x = tf.placeholder(tf.float32)\n",
    "linear_model = W * x + b\n"
   ]
  },
  {
   "cell_type": "markdown",
   "metadata": {
    "deletable": true,
    "editable": true
   },
   "source": [
    "constant在调用`tf.constant`创建时需要初始化，它的值永远不会改变。相反，variable在调用`tf.Variable'创建时不会执行初始化。如何初始化variable呢？你必须调用一个特殊操作："
   ]
  },
  {
   "cell_type": "code",
   "execution_count": 10,
   "metadata": {
    "collapsed": true,
    "deletable": true,
    "editable": true
   },
   "outputs": [],
   "source": [
    "init = tf.global_variables_initializer()\n",
    "sess.run(init)\n"
   ]
  },
  {
   "cell_type": "markdown",
   "metadata": {
    "deletable": true,
    "editable": true
   },
   "source": [
    "init是Tensorflow 子图的句柄，对所有的global variable进行初始化，当然了，在调用``sess.run``之前，variable都是未初始化的。"
   ]
  },
  {
   "cell_type": "markdown",
   "metadata": {
    "deletable": true,
    "editable": true
   },
   "source": [
    "由于x是一个placeholder，我们可以输入不同的x值来同时对linear_model求值:"
   ]
  },
  {
   "cell_type": "code",
   "execution_count": 11,
   "metadata": {
    "collapsed": false,
    "deletable": true,
    "editable": true
   },
   "outputs": [
    {
     "name": "stdout",
     "output_type": "stream",
     "text": [
      "[ 0.          0.30000001  0.60000002  0.90000004]\n"
     ]
    }
   ],
   "source": [
    "print(sess.run(linear_model, {x: [1,2,3,4]}))"
   ]
  },
  {
   "cell_type": "markdown",
   "metadata": {
    "deletable": true,
    "editable": true
   },
   "source": [
    " "
   ]
  },
  {
   "cell_type": "markdown",
   "metadata": {
    "deletable": true,
    "editable": true
   },
   "source": [
    " 我们已经创建了一个线性模型，但是我们不知道这个模型的性能如何。我们创建一个placeholder:y，提供期望的值，先定义损失函数。"
   ]
  },
  {
   "cell_type": "markdown",
   "metadata": {
    "deletable": true,
    "editable": true
   },
   "source": [
    "   "
   ]
  },
  {
   "cell_type": "markdown",
   "metadata": {
    "deletable": true,
    "editable": true
   },
   "source": [
    "损失函数衡量了模型在训练集上的好坏。我们来创建一个损失函数:"
   ]
  },
  {
   "cell_type": "code",
   "execution_count": 12,
   "metadata": {
    "collapsed": false,
    "deletable": true,
    "editable": true
   },
   "outputs": [
    {
     "name": "stdout",
     "output_type": "stream",
     "text": [
      "23.66\n"
     ]
    }
   ],
   "source": [
    "y = tf.placeholder(tf.float32)\n",
    "squared_deltas = tf.square(linear_model - y)\n",
    "loss = tf.reduce_sum(squared_deltas)\n",
    "print(sess.run(loss, {x: [1,2,3,4], y:[0,-1,-2,-3]}))"
   ]
  },
  {
   "cell_type": "markdown",
   "metadata": {
    "deletable": true,
    "editable": true
   },
   "source": [
    " "
   ]
  },
  {
   "cell_type": "markdown",
   "metadata": {
    "deletable": true,
    "editable": true
   },
   "source": [
    "模型性能不太好，我们重新对W和b赋值，使用tf.assign可以对variable重新赋值:"
   ]
  },
  {
   "cell_type": "code",
   "execution_count": 13,
   "metadata": {
    "collapsed": false,
    "deletable": true,
    "editable": true
   },
   "outputs": [
    {
     "name": "stdout",
     "output_type": "stream",
     "text": [
      "0.0\n"
     ]
    }
   ],
   "source": [
    "fixW = tf.assign(W, [-1.])\n",
    "fixb = tf.assign(b, [1.])\n",
    "sess.run([fixW, fixb])\n",
    "print(sess.run(loss, {x:[1,2,3,4], y:[0,-1,-2,-3]}))"
   ]
  },
  {
   "cell_type": "markdown",
   "metadata": {
    "deletable": true,
    "editable": true
   },
   "source": [
    "这里我们直接给出了完美的W和b值，而机器学习的目的就是自动找到最优的模型参数值。接下来我们讲学习如何找到最优参数值。"
   ]
  },
  {
   "cell_type": "markdown",
   "metadata": {
    "deletable": true,
    "editable": true
   },
   "source": [
    " "
   ]
  },
  {
   "cell_type": "markdown",
   "metadata": {
    "deletable": true,
    "editable": true
   },
   "source": [
    "  "
   ]
  },
  {
   "cell_type": "markdown",
   "metadata": {
    "deletable": true,
    "editable": true
   },
   "source": [
    "    "
   ]
  },
  {
   "cell_type": "markdown",
   "metadata": {
    "deletable": true,
    "editable": true
   },
   "source": [
    "### tf.train API 优化算法API"
   ]
  },
  {
   "cell_type": "markdown",
   "metadata": {
    "collapsed": true,
    "deletable": true,
    "editable": true
   },
   "source": [
    "详细的讨论机器学习超出了我们tutorial的范畴，只需要知道Tensorflow提供了一系列**optimizer**来改变每个variable使得损失函数值减少。最简单的optimizer是**梯度下降(gradient descent)**, 它根据损失函数对variable的偏导数来改变variable值。这些optimizer都在**tf.train**API中。\n",
    "\n",
    "\n",
    "Tensorflow提供了自动求导功能，即，使用tf.gradients可以自动对模型求导。为了简化使用，optimizer会自动进行求导。比如："
   ]
  },
  {
   "cell_type": "markdown",
   "metadata": {
    "collapsed": true,
    "deletable": true,
    "editable": true
   },
   "source": [
    " "
   ]
  },
  {
   "cell_type": "code",
   "execution_count": 14,
   "metadata": {
    "collapsed": false
   },
   "outputs": [],
   "source": [
    "optimizer = tf.train.GradientDescentOptimizer(0.01)\n",
    "train = optimizer.minimize(loss)"
   ]
  },
  {
   "cell_type": "markdown",
   "metadata": {},
   "source": [
    " "
   ]
  },
  {
   "cell_type": "markdown",
   "metadata": {},
   "source": [
    "  "
   ]
  },
  {
   "cell_type": "markdown",
   "metadata": {},
   "source": [
    "   "
   ]
  },
  {
   "cell_type": "code",
   "execution_count": 29,
   "metadata": {
    "collapsed": false,
    "deletable": true,
    "editable": true
   },
   "outputs": [
    {
     "name": "stdout",
     "output_type": "stream",
     "text": [
      "[array([-0.9999969], dtype=float32), array([ 0.99999082], dtype=float32)]\n"
     ]
    }
   ],
   "source": [
    "sess.run(init) # reset values to incorrent values\n",
    "for i in range(1000):\n",
    "    sess.run(train, {x:[1,2,3,4], y:[0,-1,-2,-3]})\n",
    "\n",
    "\n",
    "print(sess.run([W, b])) # 打印出模型的参数值"
   ]
  },
  {
   "cell_type": "markdown",
   "metadata": {
    "collapsed": true,
    "deletable": true,
    "editable": true
   },
   "source": [
    " "
   ]
  },
  {
   "cell_type": "markdown",
   "metadata": {
    "deletable": true,
    "editable": true
   },
   "source": [
    "上面的过程就是机器学习的通用流程。"
   ]
  },
  {
   "cell_type": "markdown",
   "metadata": {
    "deletable": true,
    "editable": true
   },
   "source": [
    "#### 完整的程序"
   ]
  },
  {
   "cell_type": "markdown",
   "metadata": {
    "deletable": true,
    "editable": true
   },
   "source": [
    "完整的训练linear regression model代码:"
   ]
  },
  {
   "cell_type": "code",
   "execution_count": 32,
   "metadata": {
    "collapsed": false,
    "deletable": true,
    "editable": true
   },
   "outputs": [
    {
     "name": "stdout",
     "output_type": "stream",
     "text": [
      "W: [-0.9999969] b: [ 0.99999082] loss: 5.69997e-11\n"
     ]
    }
   ],
   "source": [
    "import tensorflow as tf\n",
    "import numpy as np\n",
    "\n",
    "# 模型参数\n",
    "W = tf.Variable([.3], tf.float32)\n",
    "b = tf.Variable([-.3], tf.float32)\n",
    "# 模型输入和输出\n",
    "x = tf.placeholder(tf.float32)\n",
    "linear_model = W * x + b\n",
    "y = tf.placeholder(tf.float32)\n",
    "# 损失函数\n",
    "loss = tf.reduce_sum(tf.square(linear_model - y)) # sum of the squares\n",
    "# optimizer\n",
    "optimizer = tf.train.GradientDescentOptimizer(0.01)\n",
    "train = optimizer.minimize(loss)\n",
    "# 训练数据\n",
    "x_train = [1,2,3,4]\n",
    "y_train = [0,-1,-2,-3]\n",
    "# training loop\n",
    "init = tf.global_variables_initializer()\n",
    "sess = tf.Session()\n",
    "sess.run(init) # reset values\n",
    "for i in range(1000):\n",
    "    sess.run(train, {x:x_train, y:y_train})\n",
    "\n",
    "# 评估训练准确率\n",
    "curr_W, curr_b, curr_loss = sess.run([W, b, loss], {x:x_train, y:y_train})\n",
    "print(\"W: %s b: %s loss: %s\" %(curr_W, curr_b, curr_loss))"
   ]
  },
  {
   "cell_type": "markdown",
   "metadata": {
    "deletable": true,
    "editable": true
   },
   "source": [
    " "
   ]
  },
  {
   "cell_type": "markdown",
   "metadata": {
    "deletable": true,
    "editable": true
   },
   "source": [
    "  "
   ]
  },
  {
   "cell_type": "markdown",
   "metadata": {
    "collapsed": true,
    "deletable": true,
    "editable": true
   },
   "source": [
    "   "
   ]
  },
  {
   "cell_type": "markdown",
   "metadata": {
    "deletable": true,
    "editable": true
   },
   "source": [
    "### tf.contrib.learn"
   ]
  },
  {
   "cell_type": "markdown",
   "metadata": {
    "deletable": true,
    "editable": true
   },
   "source": [
    "tf.contrib.learn是一个高层Tensorflow库，它简化了机器学习流程，包括：\n",
    "* running training loops\n",
    "* running evaluation loops\n",
    "* managing data sets\n",
    "* managing feeding"
   ]
  },
  {
   "cell_type": "markdown",
   "metadata": {
    "deletable": true,
    "editable": true
   },
   "source": [
    "tf.contrib.learn定义了许多常用模型。"
   ]
  },
  {
   "cell_type": "markdown",
   "metadata": {
    "deletable": true,
    "editable": true
   },
   "source": [
    " "
   ]
  },
  {
   "cell_type": "markdown",
   "metadata": {
    "deletable": true,
    "editable": true
   },
   "source": [
    "#### 基本使用"
   ]
  },
  {
   "cell_type": "markdown",
   "metadata": {
    "deletable": true,
    "editable": true
   },
   "source": [
    "看看用tf.contrib.learn实现的linear regression model多么简单:"
   ]
  },
  {
   "cell_type": "code",
   "execution_count": 27,
   "metadata": {
    "collapsed": false,
    "deletable": true,
    "editable": true
   },
   "outputs": [
    {
     "name": "stdout",
     "output_type": "stream",
     "text": [
      "WARNING:tensorflow:Using temporary folder as model directory: /tmp/tmpwT4SYz\n",
      "INFO:tensorflow:Using default config.\n",
      "INFO:tensorflow:Using config: {'_save_checkpoints_secs': 600, '_num_ps_replicas': 0, '_keep_checkpoint_max': 5, '_tf_random_seed': None, '_task_type': None, '_environment': 'local', '_is_chief': True, '_cluster_spec': <tensorflow.python.training.server_lib.ClusterSpec object at 0x7f524d1361d0>, '_tf_config': gpu_options {\n",
      "  per_process_gpu_memory_fraction: 1.0\n",
      "}\n",
      ", '_task_id': 0, '_save_summary_steps': 100, '_save_checkpoints_steps': None, '_evaluation_master': '', '_keep_checkpoint_every_n_hours': 10000, '_master': ''}\n",
      "WARNING:tensorflow:Rank of input Tensor (1) should be the same as output_rank (2) for column. Will attempt to expand dims. It is highly recommended that you resize your input, as this behavior may change.\n",
      "WARNING:tensorflow:From /usr/local/lib/python2.7/dist-packages/tensorflow/contrib/learn/python/learn/estimators/head.py:1362: scalar_summary (from tensorflow.python.ops.logging_ops) is deprecated and will be removed after 2016-11-30.\n",
      "Instructions for updating:\n",
      "Please switch to tf.summary.scalar. Note that tf.summary.scalar uses the node name instead of the tag. This means that TensorFlow will automatically de-duplicate summary names based on the scope they are created in. Also, passing a tensor or list of tags to a scalar summary op is no longer supported.\n",
      "INFO:tensorflow:Create CheckpointSaverHook.\n",
      "INFO:tensorflow:Saving checkpoints for 1 into /tmp/tmpwT4SYz/model.ckpt.\n",
      "INFO:tensorflow:loss = 3.0, step = 1\n",
      "INFO:tensorflow:global_step/sec: 724.15\n",
      "INFO:tensorflow:loss = 0.0180848, step = 101\n",
      "INFO:tensorflow:global_step/sec: 850.327\n",
      "INFO:tensorflow:loss = 0.0131541, step = 201\n",
      "INFO:tensorflow:global_step/sec: 769.74\n",
      "INFO:tensorflow:loss = 0.00322331, step = 301\n",
      "INFO:tensorflow:global_step/sec: 875.205\n",
      "INFO:tensorflow:loss = 0.000500813, step = 401\n",
      "INFO:tensorflow:global_step/sec: 839.453\n",
      "INFO:tensorflow:loss = 0.000104173, step = 501\n",
      "INFO:tensorflow:global_step/sec: 852.742\n",
      "INFO:tensorflow:loss = 3.87665e-05, step = 601\n",
      "INFO:tensorflow:global_step/sec: 819.933\n",
      "INFO:tensorflow:loss = 9.94432e-06, step = 701\n",
      "INFO:tensorflow:global_step/sec: 937.568\n",
      "INFO:tensorflow:loss = 9.91291e-07, step = 801\n",
      "INFO:tensorflow:global_step/sec: 975.989\n",
      "INFO:tensorflow:loss = 5.64578e-08, step = 901\n",
      "INFO:tensorflow:Saving checkpoints for 1000 into /tmp/tmpwT4SYz/model.ckpt.\n",
      "INFO:tensorflow:Loss for final step: 1.57775e-08.\n",
      "WARNING:tensorflow:Rank of input Tensor (1) should be the same as output_rank (2) for column. Will attempt to expand dims. It is highly recommended that you resize your input, as this behavior may change.\n",
      "WARNING:tensorflow:From /usr/local/lib/python2.7/dist-packages/tensorflow/contrib/learn/python/learn/estimators/head.py:1362: scalar_summary (from tensorflow.python.ops.logging_ops) is deprecated and will be removed after 2016-11-30.\n",
      "Instructions for updating:\n",
      "Please switch to tf.summary.scalar. Note that tf.summary.scalar uses the node name instead of the tag. This means that TensorFlow will automatically de-duplicate summary names based on the scope they are created in. Also, passing a tensor or list of tags to a scalar summary op is no longer supported.\n",
      "INFO:tensorflow:Create CheckpointSaverHook.\n",
      "INFO:tensorflow:Saving checkpoints for 1001 into /tmp/tmpwT4SYz/model.ckpt.\n",
      "INFO:tensorflow:loss = 3.74553e-08, step = 1001\n",
      "INFO:tensorflow:global_step/sec: 691.863\n",
      "INFO:tensorflow:loss = 5.24751e-09, step = 1101\n",
      "INFO:tensorflow:global_step/sec: 845.016\n",
      "INFO:tensorflow:loss = 4.1655e-09, step = 1201\n",
      "INFO:tensorflow:global_step/sec: 800.23\n",
      "INFO:tensorflow:loss = 3.37523e-10, step = 1301\n",
      "INFO:tensorflow:global_step/sec: 852.16\n",
      "INFO:tensorflow:loss = 1.12015e-10, step = 1401\n",
      "INFO:tensorflow:Saving checkpoints for 1500 into /tmp/tmpwT4SYz/model.ckpt.\n",
      "INFO:tensorflow:Loss for final step: 1.3018e-11.\n",
      "WARNING:tensorflow:Rank of input Tensor (1) should be the same as output_rank (2) for column. Will attempt to expand dims. It is highly recommended that you resize your input, as this behavior may change.\n",
      "WARNING:tensorflow:From /usr/local/lib/python2.7/dist-packages/tensorflow/contrib/learn/python/learn/estimators/head.py:1362: scalar_summary (from tensorflow.python.ops.logging_ops) is deprecated and will be removed after 2016-11-30.\n",
      "Instructions for updating:\n",
      "Please switch to tf.summary.scalar. Note that tf.summary.scalar uses the node name instead of the tag. This means that TensorFlow will automatically de-duplicate summary names based on the scope they are created in. Also, passing a tensor or list of tags to a scalar summary op is no longer supported.\n",
      "INFO:tensorflow:Create CheckpointSaverHook.\n",
      "INFO:tensorflow:Saving checkpoints for 1501 into /tmp/tmpwT4SYz/model.ckpt.\n",
      "INFO:tensorflow:loss = 1.89084e-11, step = 1501\n",
      "INFO:tensorflow:global_step/sec: 695.362\n",
      "INFO:tensorflow:loss = 3.73479e-12, step = 1601\n",
      "INFO:tensorflow:global_step/sec: 857.34\n",
      "INFO:tensorflow:loss = 1.20082e-12, step = 1701\n",
      "INFO:tensorflow:global_step/sec: 881.258\n",
      "INFO:tensorflow:loss = 8.2423e-13, step = 1801\n",
      "INFO:tensorflow:global_step/sec: 819.908\n",
      "INFO:tensorflow:loss = 4.98268e-13, step = 1901\n",
      "INFO:tensorflow:global_step/sec: 803.639\n",
      "INFO:tensorflow:loss = 4.8761e-13, step = 2001\n",
      "INFO:tensorflow:global_step/sec: 862.195\n",
      "INFO:tensorflow:loss = 2.99316e-13, step = 2101\n",
      "INFO:tensorflow:global_step/sec: 1013.06\n",
      "INFO:tensorflow:loss = 5.41789e-13, step = 2201\n",
      "INFO:tensorflow:global_step/sec: 1057.24\n",
      "INFO:tensorflow:loss = 2.99316e-13, step = 2301\n",
      "INFO:tensorflow:global_step/sec: 1171.46\n",
      "INFO:tensorflow:loss = 5.68434e-14, step = 2401\n",
      "INFO:tensorflow:Saving checkpoints for 2500 into /tmp/tmpwT4SYz/model.ckpt.\n",
      "INFO:tensorflow:Loss for final step: 3.73923e-13.\n",
      "WARNING:tensorflow:Rank of input Tensor (1) should be the same as output_rank (2) for column. Will attempt to expand dims. It is highly recommended that you resize your input, as this behavior may change.\n",
      "WARNING:tensorflow:From /usr/local/lib/python2.7/dist-packages/tensorflow/contrib/learn/python/learn/estimators/head.py:1362: scalar_summary (from tensorflow.python.ops.logging_ops) is deprecated and will be removed after 2016-11-30.\n",
      "Instructions for updating:\n",
      "Please switch to tf.summary.scalar. Note that tf.summary.scalar uses the node name instead of the tag. This means that TensorFlow will automatically de-duplicate summary names based on the scope they are created in. Also, passing a tensor or list of tags to a scalar summary op is no longer supported.\n",
      "INFO:tensorflow:Starting evaluation at 2017-02-21-04:06:02\n",
      "INFO:tensorflow:Finished evaluation at 2017-02-21-04:06:02\n",
      "INFO:tensorflow:Saving dict for global step 2500: global_step = 2500, loss = 3.7355e-13\n",
      "WARNING:tensorflow:Skipping summary for global_step, must be a float or np.float32.\n"
     ]
    },
    {
     "data": {
      "text/plain": [
       "{'global_step': 2500, 'loss': 3.7354955e-13}"
      ]
     },
     "execution_count": 27,
     "metadata": {},
     "output_type": "execute_result"
    }
   ],
   "source": [
    "import tensorflow as tf\n",
    "import numpy as np\n",
    "\n",
    "# Declare list of features. We only have one real-valued feature.\n",
    "features = [tf.contrib.layers.real_valued_column(\"x\", dimension=1)]\n",
    "\n",
    "# An estimator is the front end to invoke training (fitting) and evaluation (inference).\n",
    "# There are many predefined types like linear regression, logistic regression, linear classification,\n",
    "# logistic classification, and many nerual network classifiers and regressors.\n",
    "estimator = tf.contrib.learn.LinearRegressor(feature_columns=features)\n",
    "\n",
    "# Tensorflow provides many helper methods to read and set up data sets.\n",
    "x = np.array([1., 2., 3., 4.])\n",
    "y = np.array([0, -1, -2, -3])\n",
    "input_fn = tf.contrib.learn.io.numpy_input_fn({\"x\":x}, y, batch_size=4,\n",
    "                                             num_epochs=1000) # num_epochs和steps取小的那个值作为steps\n",
    "\n",
    "# We can invoke 1000 training step by invoking the 'fit' method and passing the traing data set.\n",
    "# steps:works incrementally. 下面的代码迭代了2500次.\n",
    "# 如果不想增量迭代训练，可以把max_steps设置为None，不可以同时把steps和max_steps都设置为非None\n",
    "estimator.fit(input_fn=input_fn, steps=1000)\n",
    "estimator.fit(input_fn=input_fn, max_steps=1500)\n",
    "estimator.fit(input_fn=input_fn, steps=1000)\n",
    "# Here we evaluate how well our model did.\n",
    "estimator.evaluate(input_fn=input_fn)"
   ]
  },
  {
   "cell_type": "markdown",
   "metadata": {
    "deletable": true,
    "editable": true
   },
   "source": [
    " "
   ]
  },
  {
   "cell_type": "markdown",
   "metadata": {
    "deletable": true,
    "editable": true
   },
   "source": [
    "#### 创建模型"
   ]
  },
  {
   "cell_type": "markdown",
   "metadata": {
    "deletable": true,
    "editable": true
   },
   "source": [
    "使用tf.contrib.learn并不意味着你只能使用它提供的这些模型。借助于tf.contrib.learn 提供的对数据集、feeding、training等功能，用户可以方便地创建自己的模型。\n",
    "\n",
    "我们用tf.contrib.learn来实现一个**LinearRegressor**。为了定义模型，我们需要用到**tf.contrib.learn.Estimator**，实际上，tf.contrib.learn.LinearRegressor是tf.contrib.learn.Estimator的子类，这里我们不继承Estimator,我们直接为Estimator的参数model_fn提供一个方法来告诉tf.contrib.learn如何进行评估预测、训练和计算loss。\n",
    "\n"
   ]
  },
  {
   "cell_type": "code",
   "execution_count": 2,
   "metadata": {
    "collapsed": false,
    "deletable": true,
    "editable": true
   },
   "outputs": [
    {
     "name": "stdout",
     "output_type": "stream",
     "text": [
      "WARNING:tensorflow:Using temporary folder as model directory: /tmp/tmp0VwXo0\n",
      "INFO:tensorflow:Using default config.\n",
      "INFO:tensorflow:Using config: {'_save_checkpoints_secs': 600, '_num_ps_replicas': 0, '_keep_checkpoint_max': 5, '_tf_random_seed': None, '_task_type': None, '_environment': 'local', '_is_chief': True, '_cluster_spec': <tensorflow.python.training.server_lib.ClusterSpec object at 0x7f41924d8550>, '_tf_config': gpu_options {\n",
      "  per_process_gpu_memory_fraction: 1.0\n",
      "}\n",
      ", '_task_id': 0, '_save_summary_steps': 100, '_save_checkpoints_steps': None, '_evaluation_master': '', '_keep_checkpoint_every_n_hours': 10000, '_master': ''}\n",
      "INFO:tensorflow:Create CheckpointSaverHook.\n",
      "INFO:tensorflow:Saving checkpoints for 1 into /tmp/tmp0VwXo0/model.ckpt.\n",
      "INFO:tensorflow:loss = 5.33671509162, step = 1\n",
      "INFO:tensorflow:global_step/sec: 1118.99\n",
      "INFO:tensorflow:loss = 0.580982182463, step = 101\n",
      "INFO:tensorflow:global_step/sec: 1526.67\n",
      "INFO:tensorflow:loss = 0.074615450159, step = 201\n",
      "INFO:tensorflow:global_step/sec: 1554.34\n",
      "INFO:tensorflow:loss = 0.00570860856865, step = 301\n",
      "INFO:tensorflow:global_step/sec: 1220.05\n",
      "INFO:tensorflow:loss = 0.000621520521537, step = 401\n",
      "INFO:tensorflow:global_step/sec: 1520.47\n",
      "INFO:tensorflow:loss = 6.35296432077e-06, step = 501\n",
      "INFO:tensorflow:global_step/sec: 1194.33\n",
      "INFO:tensorflow:loss = 1.13736793187e-06, step = 601\n",
      "INFO:tensorflow:global_step/sec: 1052.71\n",
      "INFO:tensorflow:loss = 2.97432212471e-08, step = 701\n",
      "INFO:tensorflow:global_step/sec: 1434.04\n",
      "INFO:tensorflow:loss = 2.62448507365e-08, step = 801\n",
      "INFO:tensorflow:global_step/sec: 1501.03\n",
      "INFO:tensorflow:loss = 4.15981207721e-09, step = 901\n",
      "INFO:tensorflow:Saving checkpoints for 1000 into /tmp/tmp0VwXo0/model.ckpt.\n",
      "INFO:tensorflow:Loss for final step: 3.13313077914e-10.\n",
      "INFO:tensorflow:Starting evaluation at 2017-02-23-02:03:28\n",
      "INFO:tensorflow:Evaluation [1/10]\n",
      "INFO:tensorflow:Evaluation [2/10]\n",
      "INFO:tensorflow:Evaluation [3/10]\n",
      "INFO:tensorflow:Evaluation [4/10]\n",
      "INFO:tensorflow:Evaluation [5/10]\n",
      "INFO:tensorflow:Evaluation [6/10]\n",
      "INFO:tensorflow:Evaluation [7/10]\n",
      "INFO:tensorflow:Evaluation [8/10]\n",
      "INFO:tensorflow:Evaluation [9/10]\n",
      "INFO:tensorflow:Evaluation [10/10]\n",
      "INFO:tensorflow:Finished evaluation at 2017-02-23-02:03:29\n",
      "INFO:tensorflow:Saving dict for global step 1000: global_step = 1000, loss = 4.01725e-10\n",
      "WARNING:tensorflow:Skipping summary for global_step, must be a float or np.float32.\n",
      "{'loss': 4.0172451e-10, 'global_step': 1000}\n"
     ]
    }
   ],
   "source": [
    "import tensorflow as tf\n",
    "import numpy as np\n",
    "\n",
    "# Declare list of features, we only have one real-valued feature\n",
    "def model(features, labels, mode):\n",
    "    # 创建一个linear model并且进行预测\n",
    "    W = tf.get_variable(\"W\", [1], dtype=tf.float64)\n",
    "    b = tf.get_variable(\"b\", [1], dtype=tf.float64)\n",
    "    y = W * features['x'] + b\n",
    "    \n",
    "    # Loss sub-graph\n",
    "    loss = tf.reduce_sum(tf.square(y - labels))\n",
    "    # Training sub-graph\n",
    "    global_step = tf.train.get_global_step()\n",
    "    optimizer = tf.train.GradientDescentOptimizer(0.01)\n",
    "    train = tf.group(optimizer.minimize(loss),\n",
    "                    tf.assign_add(global_step, 1))\n",
    "    # ModelFnOps connects subgraphs we built to the appropriate functionality.\n",
    "    return tf.contrib.learn.ModelFnOps(\n",
    "    mode = mode, predictions = y,\n",
    "    loss = loss,\n",
    "    train_op = train)\n",
    "    \n",
    "    \n",
    "estimator = tf.contrib.learn.Estimator(model_fn=model)\n",
    "# define our data set\n",
    "x = np.array([1., 2., 3., 4.])\n",
    "y = np.array([0. , -1., -2., -3. ])\n",
    "input_fn = tf.contrib.learn.io.numpy_input_fn({\"x\": x}, y, 4, num_epochs=1000)\n",
    "\n",
    "# train\n",
    "estimator.fit(input_fn=input_fn, steps=1000)\n",
    "# evaluate our model\n",
    "print(estimator.evaluate(input_fn=input_fn, steps=10))"
   ]
  },
  {
   "cell_type": "code",
   "execution_count": null,
   "metadata": {
    "collapsed": true,
    "deletable": true,
    "editable": true
   },
   "outputs": [],
   "source": []
  },
  {
   "cell_type": "code",
   "execution_count": null,
   "metadata": {
    "collapsed": true,
    "deletable": true,
    "editable": true
   },
   "outputs": [],
   "source": []
  },
  {
   "cell_type": "code",
   "execution_count": null,
   "metadata": {
    "collapsed": true,
    "deletable": true,
    "editable": true
   },
   "outputs": [],
   "source": []
  },
  {
   "cell_type": "code",
   "execution_count": null,
   "metadata": {
    "collapsed": true,
    "deletable": true,
    "editable": true
   },
   "outputs": [],
   "source": []
  },
  {
   "cell_type": "code",
   "execution_count": null,
   "metadata": {
    "collapsed": true,
    "deletable": true,
    "editable": true
   },
   "outputs": [],
   "source": []
  }
 ],
 "metadata": {
  "kernelspec": {
   "display_name": "Python 2",
   "language": "python",
   "name": "python2"
  },
  "language_info": {
   "codemirror_mode": {
    "name": "ipython",
    "version": 2
   },
   "file_extension": ".py",
   "mimetype": "text/x-python",
   "name": "python",
   "nbconvert_exporter": "python",
   "pygments_lexer": "ipython2",
   "version": "2.7.6"
  }
 },
 "nbformat": 4,
 "nbformat_minor": 2
}
