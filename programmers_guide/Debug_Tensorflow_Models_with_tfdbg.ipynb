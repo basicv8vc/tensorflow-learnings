{
 "cells": [
  {
   "cell_type": "markdown",
   "metadata": {},
   "source": [
    "# Debug Tensorflow Models with tfdbg"
   ]
  },
  {
   "cell_type": "markdown",
   "metadata": {},
   "source": [
    "如果在Tensorflow运行时出错，代码是很难调试的。"
   ]
  },
  {
   "cell_type": "markdown",
   "metadata": {},
   "source": [
    "使用Python的调试器无法看到运行的计算图内部结构（节点和节点的连接情况）和状态（节点的输出数组或tensor）。\n",
    "\n",
    "底层调试器比如gdb不能以Tensorflow计算图节点的形式组织栈帧和变量值。\n",
    "\n",
    "为此，需要一种专门的调试器。"
   ]
  },
  {
   "cell_type": "markdown",
   "metadata": {},
   "source": [
    "tfdbg应运而生。我们直接看例子："
   ]
  },
  {
   "cell_type": "code",
   "execution_count": null,
   "metadata": {
    "collapsed": false
   },
   "outputs": [],
   "source": [
    "import numpy as np\n",
    "import tensorflow as tf\n",
    "import tensorflow.python.debug as tf_debug\n",
    "\n",
    "xs = np.linspace(-0.5, 0.49, 100)\n",
    "x = tf.placeholder(tf.float32, shape=[None], name=\"x\")\n",
    "y = tf.placeholder(tf.float32, shape=[None], name=\"y\")\n",
    "k = tf.Variable([0.0], name=\"k\")\n",
    "y_hat = tf.multiply(k, x, name=\"y_hat\")\n",
    "sse = tf.reduce_sum((y - y_hat) * (y - y_hat), name=\"sse\")\n",
    "train_op = tf.train.GradientDescentOptimizer(learning_rate=0.02).minimize(sse)\n",
    "\n",
    "sess = tf.Session()\n",
    "sess.run(tf.global_variables_initializer())\n",
    "\n",
    "sess = tf_debug.LocalCLIDebugWrapperSession(sess)\n",
    "for _ in range(10):\n",
    "    sess.run(train_op, feed_dict={x: xs, y: 42 * xs})\n"
   ]
  },
  {
   "cell_type": "markdown",
   "metadata": {},
   "source": [
    "在terminal下运行上面的这段代码，就会进入tfdbg的命令行接口。"
   ]
  },
  {
   "cell_type": "code",
   "execution_count": null,
   "metadata": {
    "collapsed": true
   },
   "outputs": [],
   "source": []
  },
  {
   "cell_type": "code",
   "execution_count": null,
   "metadata": {
    "collapsed": true
   },
   "outputs": [],
   "source": []
  },
  {
   "cell_type": "code",
   "execution_count": null,
   "metadata": {
    "collapsed": true
   },
   "outputs": [],
   "source": []
  },
  {
   "cell_type": "code",
   "execution_count": null,
   "metadata": {
    "collapsed": true
   },
   "outputs": [],
   "source": []
  }
 ],
 "metadata": {
  "kernelspec": {
   "display_name": "Python 2",
   "language": "python",
   "name": "python2"
  },
  "language_info": {
   "codemirror_mode": {
    "name": "ipython",
    "version": 2
   },
   "file_extension": ".py",
   "mimetype": "text/x-python",
   "name": "python",
   "nbconvert_exporter": "python",
   "pygments_lexer": "ipython2",
   "version": "2.7.6"
  }
 },
 "nbformat": 4,
 "nbformat_minor": 2
}
