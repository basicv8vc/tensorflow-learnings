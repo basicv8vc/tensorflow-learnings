{
 "cells": [
  {
   "cell_type": "markdown",
   "metadata": {
    "deletable": true,
    "editable": true
   },
   "source": [
    "# TensorFlow Debugger (tfdbg) Command-Line-Interface Tutorial: Tutorial "
   ]
  },
  {
   "cell_type": "markdown",
   "metadata": {
    "deletable": true,
    "editable": true
   },
   "source": [
    "**(Experimental)**"
   ]
  },
  {
   "cell_type": "markdown",
   "metadata": {
    "deletable": true,
    "editable": true
   },
   "source": [
    "这一节学习使用tfdbg，在TensorFlow的使用过程中很常见的错误是bad numerical values(nan和inf)，从而导致训练失败。我们看一下碰到这种错误，如何用tfdbg一步一步找到问题并解决。"
   ]
  },
  {
   "cell_type": "markdown",
   "metadata": {
    "collapsed": true,
    "deletable": true,
    "editable": true
   },
   "source": [
    " 先执行一个示例程序："
   ]
  },
  {
   "cell_type": "code",
   "execution_count": null,
   "metadata": {
    "collapsed": true
   },
   "outputs": [],
   "source": [
    "python debug_mnist.py"
   ]
  },
  {
   "cell_type": "markdown",
   "metadata": {},
   "source": [
    "Extracting MNIST_data/train-images-idx3-ubyte.gz\n",
    "\n",
    "Extracting MNIST_data/train-labels-idx1-ubyte.gz\n",
    "\n",
    "Extracting MNIST_data/t10k-images-idx3-ubyte.gz\n",
    "\n",
    "Extracting MNIST_data/t10k-labels-idx1-ubyte.gz\n",
    "\n",
    "Accuracy at step 0: 0.1113\n",
    "\n",
    "Accuracy at step 1: 0.3183\n",
    "\n",
    "Accuracy at step 2: 0.098\n",
    "\n",
    "Accuracy at step 3: 0.098\n",
    "\n",
    "Accuracy at step 4: 0.098\n",
    "\n",
    "Accuracy at step 5: 0.098\n",
    "\n",
    "Accuracy at step 6: 0.098\n",
    "\n",
    "Accuracy at step 7: 0.098\n",
    "\n",
    "Accuracy at step 8: 0.098\n",
    "\n",
    "Accuracy at step 9: 0.098"
   ]
  },
  {
   "cell_type": "markdown",
   "metadata": {},
   "source": [
    "可以看到准确率先升然后迅速下降。通常问题是因为某个节点产生了inf或nan。"
   ]
  },
  {
   "cell_type": "markdown",
   "metadata": {},
   "source": [
    " "
   ]
  },
  {
   "cell_type": "markdown",
   "metadata": {
    "collapsed": true,
    "deletable": true,
    "editable": true
   },
   "source": [
    "## Wrapping TensorFlow Sessions with tfdbg"
   ]
  },
  {
   "cell_type": "markdown",
   "metadata": {
    "collapsed": true,
    "deletable": true,
    "editable": true
   },
   "source": [
    "只需要修改少量的代码，就能为Session添加一层调试器，同时，在terminal运行代码时需要加上参数 `--debug`:"
   ]
  },
  {
   "cell_type": "code",
   "execution_count": null,
   "metadata": {
    "collapsed": true
   },
   "outputs": [],
   "source": [
    "from tensorflow.python import debug as tf_debug\n",
    "\n",
    "sess = tf_debug.LocalCLIDebugWrapperSession(sess)\n",
    "sess.add_tensor_filter(\"has_inf_or_nan\", tf_debug.has_inf_or_nan)"
   ]
  },
  {
   "cell_type": "markdown",
   "metadata": {},
   "source": [
    "wrapper的接口和Session一样，wrapper额外的优点有：\n",
    "* 在每次调用run()开始前和结束后，都会绑定一个基于terminal 的UI界面，来让你控制计算图内部的执行，检测内部节点的状态\n",
    "* 允许你注册特殊的过滤器来过滤tensor值，方便诊断问题所在"
   ]
  },
  {
   "cell_type": "markdown",
   "metadata": {},
   "source": [
    "上面的代码我们注册了一个tensor过滤器 `tfdbg.has_inf_or_nan`，它会查找计算图的内部tensor是否含有nan或inf"
   ]
  },
  {
   "cell_type": "code",
   "execution_count": 3,
   "metadata": {
    "collapsed": false
   },
   "outputs": [],
   "source": [
    "def has_inf_or_nan(datum, tensor):\n",
    "    return np.any(np.isnan(tensor)) or np.any(np.isinf(tensor))"
   ]
  },
  {
   "cell_type": "markdown",
   "metadata": {},
   "source": [
    "**TIPS** 你也可以实现自己的过滤器，对这部分感兴趣的童鞋去查看`DebugDumpDir.find()`的API吧。"
   ]
  },
  {
   "cell_type": "markdown",
   "metadata": {},
   "source": [
    " "
   ]
  },
  {
   "cell_type": "markdown",
   "metadata": {},
   "source": [
    "## Debugging Model Training with tfdbg"
   ]
  },
  {
   "cell_type": "markdown",
   "metadata": {},
   "source": [
    "我们重新执行最开始的训练代码并且开启调试。"
   ]
  },
  {
   "cell_type": "code",
   "execution_count": null,
   "metadata": {
    "collapsed": true
   },
   "outputs": [],
   "source": [
    "python debug_mnist.py --debug"
   ]
  },
  {
   "cell_type": "markdown",
   "metadata": {},
   "source": [
    "第一次调用`run()`之前，会进入下面的UI界面："
   ]
  },
  {
   "cell_type": "markdown",
   "metadata": {},
   "source": [
    "![](http://odw1x7kgr.bkt.clouddn.com/WX20170307-105846@2x.png)"
   ]
  },
  {
   "cell_type": "markdown",
   "metadata": {},
   "source": [
    "我们把这个界面称为 run-start UI。"
   ]
  },
  {
   "cell_type": "markdown",
   "metadata": {},
   "source": [
    "如果你嫌这个界面太小，可以用**PageUp/PageDown/Home/End**键来调整界面的大小。"
   ]
  },
  {
   "cell_type": "markdown",
   "metadata": {},
   "source": [
    " "
   ]
  },
  {
   "cell_type": "markdown",
   "metadata": {},
   "source": [
    "常用的命令：\n",
    "\n",
    "pt-------print tensor\n",
    "\n",
    "ni-------node information\n",
    "\n",
    "li-------list input\n",
    "\n",
    "lo-------list output\n",
    "\n",
    "r--------run\n"
   ]
  },
  {
   "cell_type": "markdown",
   "metadata": {},
   "source": [
    "![](http://odw1x7kgr.bkt.clouddn.com/WX20170307-111145.png)"
   ]
  },
  {
   "cell_type": "code",
   "execution_count": null,
   "metadata": {
    "collapsed": true
   },
   "outputs": [],
   "source": []
  },
  {
   "cell_type": "code",
   "execution_count": null,
   "metadata": {
    "collapsed": true
   },
   "outputs": [],
   "source": []
  }
 ],
 "metadata": {
  "kernelspec": {
   "display_name": "Python 2",
   "language": "python",
   "name": "python2"
  },
  "language_info": {
   "codemirror_mode": {
    "name": "ipython",
    "version": 2
   },
   "file_extension": ".py",
   "mimetype": "text/x-python",
   "name": "python",
   "nbconvert_exporter": "python",
   "pygments_lexer": "ipython2",
   "version": "2.7.6"
  }
 },
 "nbformat": 4,
 "nbformat_minor": 2
}
