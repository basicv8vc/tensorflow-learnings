{
 "cells": [
  {
   "cell_type": "markdown",
   "metadata": {
    "deletable": true,
    "editable": true
   },
   "source": [
    "# Reading Files with TensorFlow"
   ]
  },
  {
   "cell_type": "markdown",
   "metadata": {
    "deletable": true,
    "editable": true
   },
   "source": [
    "读取文件内容，可以用标准的Python读文件方法，也可以用TensorFlow内置的op。"
   ]
  },
  {
   "cell_type": "markdown",
   "metadata": {
    "deletable": true,
    "editable": true
   },
   "source": [
    "## Placeholders"
   ]
  },
  {
   "cell_type": "markdown",
   "metadata": {
    "deletable": true,
    "editable": true
   },
   "source": [
    "最简单的方法是使用标准的python方式读取。把数据保存到placeholder。"
   ]
  },
  {
   "cell_type": "markdown",
   "metadata": {
    "deletable": true,
    "editable": true
   },
   "source": [
    "先创建计算图，它读取每一行的数据，然后做加法"
   ]
  },
  {
   "cell_type": "code",
   "execution_count": 18,
   "metadata": {
    "collapsed": true,
    "deletable": true,
    "editable": true
   },
   "outputs": [],
   "source": [
    "import tensorflow as tf\n",
    "\n",
    "filename = \"olympics2016.csv\"\n",
    "\n",
    "features = tf.placeholder(tf.int32, shape=[3], name=\"features\")\n",
    "country = tf.placeholder(tf.string, name=\"country\")\n",
    "total = tf.reduce_sum(features, name=\"total\")"
   ]
  },
  {
   "cell_type": "markdown",
   "metadata": {
    "deletable": true,
    "editable": true
   },
   "source": [
    "接下来，我们引入一个新的op，`Print`，用于打印节点的当前值。"
   ]
  },
  {
   "cell_type": "code",
   "execution_count": 19,
   "metadata": {
    "collapsed": true,
    "deletable": true,
    "editable": true
   },
   "outputs": [],
   "source": [
    "printerop = tf.Print(total, [country, features, total], name=\"printer\")"
   ]
  },
  {
   "cell_type": "markdown",
   "metadata": {
    "deletable": true,
    "editable": true
   },
   "source": [
    "对printerop求值会发生什么？它会打印第二个参数的当前值，并把第一个参数返回。这是一个Variable，所以我们需要初始化。"
   ]
  },
  {
   "cell_type": "code",
   "execution_count": 21,
   "metadata": {
    "collapsed": false,
    "deletable": true,
    "editable": true
   },
   "outputs": [],
   "source": [
    "with tf.Session() as sess:\n",
    "    sess.run(tf.global_variables_initializer())\n",
    "    with open(filename) as inf:\n",
    "        # 忽略第一行\n",
    "        next(inf)\n",
    "        for line in inf:\n",
    "            # 读取数据, using python\n",
    "            country_name, code, gold, silver, bronze, total = line.strip().split(',')\n",
    "            gold = int(gold)\n",
    "            silver = int(silver)\n",
    "            bronze = int(bronze)\n",
    "            \n",
    "            # Run the Print op\n",
    "            result = sess.run(printerop, feed_dict={features: [gold, silver, bronze], country: country_name})\n",
    "\n",
    "#             print(country_name, result, total)"
   ]
  },
  {
   "cell_type": "markdown",
   "metadata": {
    "deletable": true,
    "editable": true
   },
   "source": [
    " "
   ]
  },
  {
   "cell_type": "markdown",
   "metadata": {
    "deletable": true,
    "editable": true
   },
   "source": [
    "  "
   ]
  },
  {
   "cell_type": "markdown",
   "metadata": {
    "deletable": true,
    "editable": true
   },
   "source": [
    "   "
   ]
  },
  {
   "cell_type": "markdown",
   "metadata": {
    "deletable": true,
    "editable": true
   },
   "source": [
    "## Reading CSV files in TensorFlow\n",
    "\n",
    "\n",
    "http://learningtensorflow.com/ReadingFilesBasic/"
   ]
  },
  {
   "cell_type": "markdown",
   "metadata": {
    "deletable": true,
    "editable": true
   },
   "source": [
    "TensorFlow支持直接把数据读取到tensor中。步骤有点点麻烦，我们一步一步来。"
   ]
  },
  {
   "cell_type": "markdown",
   "metadata": {
    "deletable": true,
    "editable": true
   },
   "source": [
    "核心思想是创建一个队列(不是Python列表)包含要读取的文件名，然后创建一个reader op来执行读操作。"
   ]
  },
  {
   "cell_type": "code",
   "execution_count": 38,
   "metadata": {
    "collapsed": true,
    "deletable": true,
    "editable": true
   },
   "outputs": [],
   "source": [
    "def create_file_reader_ops(filename_queue):\n",
    "    reader = tf.TextLineReader(skip_header_lines=1)\n",
    "    _, csv_row = reader.read(filename_queue)\n",
    "    record_defaults = [[\"\"], [\"\"], [0], [0], [0], [0]]\n",
    "    country, code, gold, silver, bronze, total = tf.decode_csv(csv_row, record_defaults=record_defaults)\n",
    "    \n",
    "    features = tf.stack([gold, silver, bronze])\n",
    "    return features, country"
   ]
  },
  {
   "cell_type": "markdown",
   "metadata": {
    "deletable": true,
    "editable": true
   },
   "source": [
    "注意，reader接受的是队列对象，而不是Python列表，如何创建队列对象呢？"
   ]
  },
  {
   "cell_type": "code",
   "execution_count": 39,
   "metadata": {
    "collapsed": false,
    "deletable": true,
    "editable": true
   },
   "outputs": [],
   "source": [
    "filenames = [filename]\n",
    "filename_queue = tf.train.string_input_producer(filenames, num_epochs=1, shuffle=False)\n",
    "example, country = create_file_reader_ops(filename_queue)"
   ]
  },
  {
   "cell_type": "markdown",
   "metadata": {
    "deletable": true,
    "editable": true
   },
   "source": [
    "上面就是创建图过程，虽然创建好了，但是不能直接run哦，还需要一点额外的工作，这是因为队列对象不同于普通的计算图 op，我们还需要创建 `Coordinator`来管理运行队列。his co-ordinator will increment through the dataset everytime example and label are evaluated, as they effectively pull data from the file.\n",
    "\n"
   ]
  },
  {
   "cell_type": "code",
   "execution_count": 16,
   "metadata": {
    "collapsed": false,
    "deletable": true,
    "editable": true
   },
   "outputs": [
    {
     "name": "stdout",
     "output_type": "stream",
     "text": [
      "(array([46, 37, 38], dtype=int32), 'United States')\n",
      "(array([27, 23, 17], dtype=int32), 'Great Britain')\n",
      "(array([26, 18, 26], dtype=int32), 'China')\n",
      "(array([19, 18, 19], dtype=int32), 'Russia')\n",
      "(array([17, 10, 15], dtype=int32), 'Germany')\n",
      "(array([12,  8, 21], dtype=int32), 'Japan')\n",
      "(array([10, 18, 14], dtype=int32), 'France')\n",
      "(array([9, 3, 9], dtype=int32), 'South Korea')\n",
      "(array([ 8, 12,  8], dtype=int32), 'Italy')\n",
      "(array([ 8, 11, 10], dtype=int32), 'Australia')\n",
      "(array([8, 7, 4], dtype=int32), 'Netherlands')\n",
      "(array([8, 3, 4], dtype=int32), 'Hungary')\n",
      "(array([7, 6, 6], dtype=int32), 'Brazil')\n",
      "(array([7, 4, 6], dtype=int32), 'Spain')\n",
      "(array([6, 6, 1], dtype=int32), 'Kenya')\n",
      "(array([6, 3, 2], dtype=int32), 'Jamaica')\n",
      "(array([5, 3, 2], dtype=int32), 'Croatia')\n",
      "(array([5, 2, 4], dtype=int32), 'Cuba')\n",
      "(array([4, 9, 5], dtype=int32), 'New Zealand')\n",
      "(array([ 4,  3, 15], dtype=int32), 'Canada')\n",
      "(array([4, 2, 7], dtype=int32), 'Uzbekistan')\n",
      "(array([3, 5, 9], dtype=int32), 'Kazakhstan')\n",
      "(array([3, 2, 3], dtype=int32), 'Colombia')\n",
      "(array([3, 2, 2], dtype=int32), 'Switzerland')\n",
      "(array([3, 1, 4], dtype=int32), 'Iran')\n",
      "(array([3, 1, 2], dtype=int32), 'Greece')\n",
      "(array([3, 1, 0], dtype=int32), 'Argentina')\n",
      "(array([2, 6, 7], dtype=int32), 'Denmark')\n",
      "(array([2, 6, 3], dtype=int32), 'Sweden')\n",
      "(array([2, 6, 2], dtype=int32), 'South Africa')\n",
      "(array([2, 5, 4], dtype=int32), 'Ukraine')\n",
      "(array([2, 4, 2], dtype=int32), 'Serbia')\n",
      "(array([2, 3, 6], dtype=int32), 'Poland')\n",
      "(array([2, 3, 2], dtype=int32), 'North Korea')\n",
      "(array([2, 2, 2], dtype=int32), 'Belgium')\n",
      "(array([2, 2, 2], dtype=int32), 'Thailand')\n",
      "(array([2, 2, 0], dtype=int32), 'Slovakia')\n",
      "(array([2, 1, 4], dtype=int32), 'Georgia')\n",
      "(array([ 1,  7, 10], dtype=int32), 'Azerbaijan')\n",
      "(array([1, 4, 4], dtype=int32), 'Belarus')\n",
      "(array([1, 3, 4], dtype=int32), 'Turkey')\n",
      "(array([1, 3, 0], dtype=int32), 'Armenia')\n",
      "(array([1, 2, 7], dtype=int32), 'Czech Republic')\n",
      "(array([1, 2, 5], dtype=int32), 'Ethiopia')\n",
      "(array([1, 2, 1], dtype=int32), 'Slovenia')\n",
      "(array([1, 2, 0], dtype=int32), 'Indonesia')\n",
      "(array([1, 1, 3], dtype=int32), 'Romania')\n",
      "(array([1, 1, 0], dtype=int32), 'Bahrain')\n",
      "(array([1, 1, 0], dtype=int32), 'Vietnam')\n",
      "(array([1, 0, 2], dtype=int32), 'Chinese Taipei')\n",
      "(array([1, 0, 1], dtype=int32), 'Bahamas')\n",
      "(array([1, 0, 1], dtype=int32), 'Ivory Coast')\n",
      "(array([1, 0, 1], dtype=int32), 'Independent Olympic Athletes')\n",
      "(array([1, 0, 0], dtype=int32), 'Fiji')\n",
      "(array([1, 0, 0], dtype=int32), 'Jordan')\n",
      "(array([1, 0, 0], dtype=int32), 'Kosovo')\n",
      "(array([1, 0, 0], dtype=int32), 'Puerto Rico')\n",
      "(array([1, 0, 0], dtype=int32), 'Singapore')\n",
      "(array([1, 0, 0], dtype=int32), 'Tajikistan')\n",
      "(array([0, 4, 1], dtype=int32), 'Malaysia')\n",
      "(array([0, 3, 2], dtype=int32), 'Mexico')\n",
      "(array([0, 2, 0], dtype=int32), 'Algeria')\n",
      "(array([0, 2, 0], dtype=int32), 'Ireland')\n",
      "(array([0, 1, 3], dtype=int32), 'Lithuania')\n",
      "(array([0, 1, 2], dtype=int32), 'Bulgaria')\n",
      "(array([0, 1, 2], dtype=int32), 'Venezuela')\n",
      "(array([0, 1, 1], dtype=int32), 'India')\n",
      "(array([0, 1, 1], dtype=int32), 'Mongolia')\n",
      "(array([0, 1, 0], dtype=int32), 'Burundi')\n",
      "(array([0, 1, 0], dtype=int32), 'Grenada')\n",
      "(array([0, 1, 0], dtype=int32), 'Niger')\n",
      "(array([0, 1, 0], dtype=int32), 'Philippines')\n",
      "(array([0, 1, 0], dtype=int32), 'Qatar')\n",
      "(array([0, 0, 4], dtype=int32), 'Norway')\n",
      "(array([0, 0, 3], dtype=int32), 'Egypt')\n",
      "(array([0, 0, 3], dtype=int32), 'Tunisia')\n",
      "(array([0, 0, 2], dtype=int32), 'Israel')\n",
      "(array([0, 0, 1], dtype=int32), 'Austria')\n",
      "(array([0, 0, 1], dtype=int32), 'Dominican Republic')\n",
      "(array([0, 0, 1], dtype=int32), 'Estonia')\n",
      "(array([0, 0, 1], dtype=int32), 'Finland')\n",
      "(array([0, 0, 1], dtype=int32), 'Morocco')\n",
      "(array([0, 0, 1], dtype=int32), 'Moldova')\n",
      "(array([0, 0, 1], dtype=int32), 'Nigeria')\n",
      "(array([0, 0, 1], dtype=int32), 'Portugal')\n",
      "(array([0, 0, 1], dtype=int32), 'Trinidad and Tobago')\n",
      "(array([0, 0, 1], dtype=int32), 'United Arab Emirates')\n"
     ]
    }
   ],
   "source": [
    "import tensorflow as tf \n",
    "\n",
    "with tf.Session() as session:\n",
    "    session.run(tf.global_variables_initializer())\n",
    "    session.run(tf.local_variables_initializer())\n",
    "    coord = tf.train.Coordinator()\n",
    "    threads = tf.train.start_queue_runners(session, coord=coord)\n",
    "\n",
    "    while True:\n",
    "        try:\n",
    "            example_data, country_name = session.run([example, country])\n",
    "            print(example_data, country_name)\n",
    "        except tf.errors.OutOfRangeError:\n",
    "            break"
   ]
  },
  {
   "cell_type": "code",
   "execution_count": null,
   "metadata": {
    "collapsed": true,
    "deletable": true,
    "editable": true
   },
   "outputs": [],
   "source": []
  }
 ],
 "metadata": {
  "kernelspec": {
   "display_name": "Python 2",
   "language": "python",
   "name": "python2"
  },
  "language_info": {
   "codemirror_mode": {
    "name": "ipython",
    "version": 2
   },
   "file_extension": ".py",
   "mimetype": "text/x-python",
   "name": "python",
   "nbconvert_exporter": "python",
   "pygments_lexer": "ipython2",
   "version": "2.7.6"
  }
 },
 "nbformat": 4,
 "nbformat_minor": 2
}
