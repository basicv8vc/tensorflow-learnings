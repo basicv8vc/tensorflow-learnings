{
 "cells": [
  {
   "cell_type": "markdown",
   "metadata": {
    "deletable": true,
    "editable": true
   },
   "source": [
    "# Sharing Variables"
   ]
  },
  {
   "cell_type": "markdown",
   "metadata": {
    "deletable": true,
    "editable": true
   },
   "source": [
    " \n",
    " \n",
    " "
   ]
  },
  {
   "cell_type": "markdown",
   "metadata": {
    "collapsed": true,
    "deletable": true,
    "editable": true
   },
   "source": [
    " "
   ]
  },
  {
   "cell_type": "code",
   "execution_count": 1,
   "metadata": {
    "collapsed": true,
    "deletable": true,
    "editable": true
   },
   "outputs": [],
   "source": [
    "import tensorflow as tf"
   ]
  },
  {
   "cell_type": "markdown",
   "metadata": {
    "collapsed": true,
    "deletable": true,
    "editable": true
   },
   "source": [
    "## 问题"
   ]
  },
  {
   "cell_type": "markdown",
   "metadata": {
    "collapsed": true,
    "deletable": true,
    "editable": true
   },
   "source": [
    " 想象一下你要为图像过滤任务创建一个简单的CNN模型，参数还是用`tf.Variable`表示，代码如下："
   ]
  },
  {
   "cell_type": "code",
   "execution_count": 2,
   "metadata": {
    "collapsed": true,
    "deletable": true,
    "editable": true
   },
   "outputs": [],
   "source": [
    "def my_image_filter(input_images):\n",
    "    conv1_weights = tf.Variable(tf.random_normal([5, 5, 32, 32]), name=\"conv1_weights\")\n",
    "    conv1_biases = tf.Variable(tf.zeros([32]), name=\"conv1_biases\")\n",
    "    conv1 = tf.nn.conv2d(input_images, conv1_weigths,\n",
    "                        strides=[1, 1, 1, 1], padding='SAME')\n",
    "    \n",
    "    relu1 = tf.nn.relu(conv1 + conv1_biases)\n",
    "    \n",
    "    conv2_weights = tf.Variable(tf.random_normal([5, 5, 32, 32]), name=\"conv2_weights\")\n",
    "    conv2_biases = tf.Variable(tf.zeros([32]), name=\"conv2_biases\")\n",
    "    conv2 = tf.nn.conv2d(relu1, conv2_weights,\n",
    "                        strides=[1, 1, 1, 1], padding='SAME')\n",
    "    return tf.nn.relu(conv2 + conv2_biases)"
   ]
  },
  {
   "cell_type": "markdown",
   "metadata": {
    "deletable": true,
    "editable": true
   },
   "source": [
    "虽然模型只有两个卷积层，但是却有4个不同的参数变量：`conv1_weigths`, `conv1_biases`, `conv2_weights`, `conv2_biases`。"
   ]
  },
  {
   "cell_type": "markdown",
   "metadata": {
    "deletable": true,
    "editable": true
   },
   "source": [
    " "
   ]
  },
  {
   "cell_type": "markdown",
   "metadata": {
    "deletable": true,
    "editable": true
   },
   "source": [
    "特别地，如果你想要重复使用这段代码，比如用于两个不同的图像数据集image1和image2。你为每个数据集调用此方法，然而，tensorflow却创建了两组参数变量！，也就是创建了8=2*4个变量。"
   ]
  },
  {
   "cell_type": "code",
   "execution_count": null,
   "metadata": {
    "collapsed": true,
    "deletable": true,
    "editable": true
   },
   "outputs": [],
   "source": [
    "# 第一次调用会创建4个变量\n",
    "result1 = my_image_filter(image1)\n",
    "# 第二次调用会创建另外4个变量\n",
    "result2 = my_image_filter(image2)"
   ]
  },
  {
   "cell_type": "markdown",
   "metadata": {
    "deletable": true,
    "editable": true
   },
   "source": [
    "能否共享变量呢？即，只创建一组（4个）变量，每个数据集都共享这组变量？"
   ]
  },
  {
   "cell_type": "markdown",
   "metadata": {
    "deletable": true,
    "editable": true
   },
   "source": [
    "常见的方法是用**全局变量**表示参数："
   ]
  },
  {
   "cell_type": "code",
   "execution_count": null,
   "metadata": {
    "collapsed": true,
    "deletable": true,
    "editable": true
   },
   "outputs": [],
   "source": [
    "variable_dict = {\n",
    "    \"conv1_weights\": tf.Variable(tf.random_normal([5, 5, 32, 32]),\n",
    "                                name = \"conv1_weights\")\n",
    "    \"conv1_biases\": tf.Variable(tf.zeros([32]), name=\"conv1_biases\")\n",
    "    \"conv2_weights\": tf.Variable(tf.random_normal([5, 5, 32, 32]),\n",
    "                                name = \"conv2_weights\")\n",
    "    \"conv2_biases\": tf.Variable(tf.zeros([32]), name=\"conv2_biases\")\n",
    "    \n",
    "}\n",
    "\n",
    "def my_image_filter(input_images, variables_dict):\n",
    "    conv1 = tf.nn.conv2d(input_images, variables_dict[\"conv1_weights\"],\n",
    "                        strides=[1, 1, 1, 1], padding='SAME')\n",
    "    relu1 = tf.nn.relu(conv1 + variables_dict[\"conv1_biases\"])\n",
    "    \n",
    "    conv2 = tf.nn.conv2d(relu1, variables_dict[\"conv2_weights\"],\n",
    "                        strides=[1, 1, 1, 1], padding='SAME')\n",
    "    return tf.nn.relu(conv2 + variables_dict[\"conv2_biases\"])\n",
    "\n",
    "# 调用\n",
    "result1 = my_image_filter(image1, variables_dict)\n",
    "result2 = my_image_filter(image2, variables_dict)\n",
    "    "
   ]
  },
  {
   "cell_type": "markdown",
   "metadata": {
    "deletable": true,
    "editable": true
   },
   "source": [
    "用全局变量虽然能解决参数共享，但是却破坏了代码的封装性。\n",
    "\n",
    "TensorFlow提供了**Variable Scope**机制来轻松解决变量共享的问题。"
   ]
  },
  {
   "cell_type": "markdown",
   "metadata": {
    "deletable": true,
    "editable": true
   },
   "source": [
    " "
   ]
  },
  {
   "cell_type": "markdown",
   "metadata": {
    "deletable": true,
    "editable": true
   },
   "source": [
    "### Variable Scope"
   ]
  },
  {
   "cell_type": "markdown",
   "metadata": {
    "deletable": true,
    "editable": true
   },
   "source": [
    "TensorFlow中的Variable Scope机制主要包含两个函数：\n",
    "* tf.get_variable(<name>, <shape>, <initializer>): 创建或返回一个指定name的variable\n",
    "* tf.variable_scope(<scope_name>): 管理name的命名空间"
   ]
  },
  {
   "cell_type": "markdown",
   "metadata": {
    "deletable": true,
    "editable": true
   },
   "source": [
    "函数`tf.get_variable()`用于获取或创建一个variable，而不是直接调用tf.Variable。它使用初始化器而不是直接传递一个tensor初始化。\n",
    "\n",
    "什么是初始化器(initializer)？初始化器实际上是函数，它接收shape作参数，然后返回一个shape相同的tensor。TensorFlow中常用的初始化器包括：\n",
    "* tf.constant_initializer(value) 用value值进行初始化\n",
    "* tf.random_uniform_initializer(a, b) 均匀分布[a, b]\n",
    "* tf.random_normal_initializer(mean, stddev)\n",
    "\n",
    "我们重构上面的代码："
   ]
  },
  {
   "cell_type": "code",
   "execution_count": 1,
   "metadata": {
    "collapsed": true,
    "deletable": true,
    "editable": true
   },
   "outputs": [],
   "source": [
    "def conv_relu(input, kernel_shape, bias_shape):\n",
    "    # 创建名为weights的variable\n",
    "    weights = tf.get_variable(\"weights\", kernel_shape,\n",
    "                             initializer=tf.random_normal_initializer())\n",
    "    biases = tf.get_variable(\"biases\", bias_shape,\n",
    "                            initializer=tf.constant_initializer(0.0))\n",
    "    conv = tf.nn.conv2d(input, weights, strides=[1,1,1,1], padding='SAME')\n",
    "    return tf.nn.relu(conv + biases)"
   ]
  },
  {
   "cell_type": "markdown",
   "metadata": {
    "deletable": true,
    "editable": true
   },
   "source": [
    "函数内部创建了weights和biases两个变量，我们想把这个两个变量用于conv1和conv2，但是参数的名字不应该一样，好了，下面该tf.variable_scope()登场了。"
   ]
  },
  {
   "cell_type": "code",
   "execution_count": 2,
   "metadata": {
    "collapsed": true,
    "deletable": true,
    "editable": true
   },
   "outputs": [],
   "source": [
    "def my_image_filter(input_images):\n",
    "    with tf.variable_scope(\"conv1\"):\n",
    "        # 这里创建的变量名字是 conv1/weights, conv1/biases\n",
    "        relu1 = conv_relu(input_images, [5, 5, 32, 32], [32])\n",
    "    with tf.variable_scope(\"conv2\"):\n",
    "        # 这里创建的变量名字是 conv2/weights, conv2/biases\n",
    "        return conv_relu(relu1, [5, 5, 32, 32], [32])"
   ]
  },
  {
   "cell_type": "code",
   "execution_count": null,
   "metadata": {
    "collapsed": true,
    "deletable": true,
    "editable": true
   },
   "outputs": [],
   "source": [
    "result1 = my_image_filter(image1)\n",
    "result2 = my_image_filter(image2)\n",
    "# Raises ValueError(... conv1/weights already exists...)"
   ]
  },
  {
   "cell_type": "markdown",
   "metadata": {
    "deletable": true,
    "editable": true
   },
   "source": [
    "正如你看到的，tf.get_variable()会检查已经存在的变量并没有被共享，如果你要共享它们，需要手动指定:"
   ]
  },
  {
   "cell_type": "code",
   "execution_count": null,
   "metadata": {
    "collapsed": true,
    "deletable": true,
    "editable": true
   },
   "outputs": [],
   "source": [
    "with tf.variable_scope(\"image_filters\") as scope:\n",
    "    result1 = my_image_filter(image1)\n",
    "    scope.reuse_variables()\n",
    "    result2 = my_image_filter(image2)"
   ]
  },
  {
   "cell_type": "markdown",
   "metadata": {
    "deletable": true,
    "editable": true
   },
   "source": [
    " "
   ]
  },
  {
   "cell_type": "markdown",
   "metadata": {
    "deletable": true,
    "editable": true
   },
   "source": [
    "  "
   ]
  },
  {
   "cell_type": "markdown",
   "metadata": {
    "deletable": true,
    "editable": true
   },
   "source": [
    "   "
   ]
  },
  {
   "cell_type": "markdown",
   "metadata": {
    "deletable": true,
    "editable": true
   },
   "source": [
    "### Variable Scope原理"
   ]
  },
  {
   "cell_type": "markdown",
   "metadata": {
    "deletable": true,
    "editable": true
   },
   "source": [
    "#### 理解 tf.get_variable()： 有同名就报错 vs 找不到就报错"
   ]
  },
  {
   "cell_type": "markdown",
   "metadata": {
    "deletable": true,
    "editable": true
   },
   "source": [
    "想要理解variable scope，先要知道tf.get_variable()的工作原理，\n",
    "\n",
    "v = tf.get_variable(name, shape, dtype, initializer)\n",
    "\n",
    "\n",
    "根据scope的情况，tf.get_variable要做的事情也不同\n",
    "* Case 1: scope用于创建新变量，也就是 `tf.get_variable_scope().reuse == False`"
   ]
  },
  {
   "cell_type": "markdown",
   "metadata": {
    "deletable": true,
    "editable": true
   },
   "source": [
    "v是一个新建的tf.Variable，这个v的名字就是scope+参数name，**注意**：tf会检查有没有名字相同的变量已经存在，如果已存在，get_variable会返回`ValueError`（因为reuse==False，有同名的就报错）。"
   ]
  },
  {
   "cell_type": "code",
   "execution_count": 3,
   "metadata": {
    "collapsed": false,
    "deletable": true,
    "editable": true
   },
   "outputs": [],
   "source": [
    "with tf.variable_scope(\"foo\"):\n",
    "    v = tf.get_variable(\"v\", [1])\n",
    "assert v.name == \"foo/v:0\""
   ]
  },
  {
   "cell_type": "markdown",
   "metadata": {
    "deletable": true,
    "editable": true
   },
   "source": [
    " "
   ]
  },
  {
   "cell_type": "markdown",
   "metadata": {
    "deletable": true,
    "editable": true
   },
   "source": [
    "* Case 2: scope用于重用变量，也就是 tf.get_variable_scope().reuse == True"
   ]
  },
  {
   "cell_type": "markdown",
   "metadata": {
    "deletable": true,
    "editable": true
   },
   "source": [
    "此时，get_variable()会根据提供的变量名搜索已经存在的变量，如果不存在指定名字的变量，会报错：ValueError(因为reuse==True，找不到就报错)。如果找到了同名的变量，会把它返回。"
   ]
  },
  {
   "cell_type": "code",
   "execution_count": 2,
   "metadata": {
    "collapsed": false,
    "deletable": true,
    "editable": true
   },
   "outputs": [],
   "source": [
    "with tf.variable_scope(\"foo\"):# 有同名的就报错\n",
    "    v = tf.get_variable(\"v\", [1])\n",
    "with tf.variable_scope(\"foo\", reuse=True): #找不到就报错\n",
    "    v1 = tf.get_variable(\"v\", [1])\n",
    "\n",
    "assert v1 is v"
   ]
  },
  {
   "cell_type": "markdown",
   "metadata": {
    "deletable": true,
    "editable": true
   },
   "source": [
    " "
   ]
  },
  {
   "cell_type": "markdown",
   "metadata": {
    "deletable": true,
    "editable": true
   },
   "source": [
    "### tf.variable_scope()基础"
   ]
  },
  {
   "cell_type": "markdown",
   "metadata": {
    "collapsed": true,
    "deletable": true,
    "editable": true
   },
   "source": [
    "知道了`tf.get_variable()`的工作原理也就很容易理解variable scope的含义。variable scope最基本的功能是为变量名提供前缀标示和reuse-flag（即是否重用variable）。variable scope可以嵌套："
   ]
  },
  {
   "cell_type": "code",
   "execution_count": 4,
   "metadata": {
    "collapsed": false
   },
   "outputs": [],
   "source": [
    "with tf.variable_scope(\"foo\"):\n",
    "    with tf.variable_scope(\"bar\"):\n",
    "        v = tf.get_variable(\"v\", [1])\n",
    "assert v.name == \"foo/bar/v:0\""
   ]
  },
  {
   "cell_type": "markdown",
   "metadata": {},
   "source": [
    "调用`tf.get_variable_scope()`可以获取当前的variable scope；\n",
    "\n",
    "调用 `tf.get_variable_scope().reuse_variables()`可以把当前variable scope的reuse设置为True:"
   ]
  },
  {
   "cell_type": "code",
   "execution_count": 6,
   "metadata": {
    "collapsed": false
   },
   "outputs": [],
   "source": [
    "with tf.variable_scope(\"fooo\"):\n",
    "    v = tf.get_variable(\"v\", [1])\n",
    "    tf.get_variable_scope().reuse_variables()\n",
    "    v1 = tf.get_variable(\"v\", [1])\n",
    "assert v1 is v"
   ]
  },
  {
   "cell_type": "markdown",
   "metadata": {},
   "source": [
    "**注意你不能再把reuse设置为False**。"
   ]
  },
  {
   "cell_type": "markdown",
   "metadata": {},
   "source": [
    " "
   ]
  },
  {
   "cell_type": "markdown",
   "metadata": {},
   "source": [
    "variable scope是可以嵌套的，如果某个scope的reuse是True，那么这个scope的子scope的reuse也是True。"
   ]
  },
  {
   "cell_type": "code",
   "execution_count": 10,
   "metadata": {
    "collapsed": false
   },
   "outputs": [],
   "source": [
    "with tf.variable_scope(\"root\"):\n",
    "    # 一开始scope的reuse=False\n",
    "    assert tf.get_variable_scope().reuse == False\n",
    "    with tf.variable_scope(\"foo\"):\n",
    "        # Open a sub-scope, reuse==False\n",
    "        assert tf.get_variable_scope().reuse == False\n",
    "    with tf.variable_scope(\"foo\", reuse=True):\n",
    "        # 显式创建一个reusing scope\n",
    "        assert tf.get_variable_scope().reuse == True\n",
    "        with tf.variable_scope(\"bar\"):\n",
    "            # 子-scope继承了 reuse=True\n",
    "            assert tf.get_variable_scope().reuse == True\n",
    "    # root scope还是reuse=False\n",
    "    assert tf.get_variable_scope().reuse == False"
   ]
  },
  {
   "cell_type": "markdown",
   "metadata": {},
   "source": [
    " "
   ]
  },
  {
   "cell_type": "markdown",
   "metadata": {},
   "source": [
    "   "
   ]
  },
  {
   "cell_type": "markdown",
   "metadata": {},
   "source": [
    "   "
   ]
  },
  {
   "cell_type": "markdown",
   "metadata": {},
   "source": [
    "### Capturing variable scope"
   ]
  },
  {
   "cell_type": "markdown",
   "metadata": {},
   "source": [
    "看一下scope的其他用法, 作参数："
   ]
  },
  {
   "cell_type": "code",
   "execution_count": 11,
   "metadata": {
    "collapsed": true
   },
   "outputs": [],
   "source": [
    "with tf.variable_scope(\"ffoo\") as ffoo_scope:\n",
    "    v = tf.get_variable(\"v\", [1])\n",
    "with tf.variable_scope(ffoo_scope):\n",
    "    w = tf.get_variable(\"w\", [1])\n",
    "with tf.variable_scope(ffoo_scope, reuse=True):\n",
    "    v1 = tf.get_variable(\"v\", [1])\n",
    "    w1 = tf.get_variable(\"w\", [1])\n",
    "\n",
    "assert v1 is v\n",
    "assert w1 is w"
   ]
  },
  {
   "cell_type": "markdown",
   "metadata": {},
   "source": []
  },
  {
   "cell_type": "markdown",
   "metadata": {},
   "source": [
    " "
   ]
  },
  {
   "cell_type": "markdown",
   "metadata": {},
   "source": [
    "把variable scope作为参数传递时，新建的variable scope的name就是传入的scope.name，不管新建的scope是否是某个子-scope，它是独立的！"
   ]
  },
  {
   "cell_type": "code",
   "execution_count": 12,
   "metadata": {
    "collapsed": true
   },
   "outputs": [],
   "source": [
    "with tf.variable_scope(\"fooo\") as fooo_scope:\n",
    "    assert fooo_scope.name == \"fooo\"\n",
    "with tf.variable_scope(\"barr\"):\n",
    "    with tf.variable_scope(\"baz\") as other_scope:\n",
    "        assert other_scope.name == \"barr/baz\" ########### barr/baz\n",
    "        with tf.variable_scope(fooo_scope) as fooo_scope2:\n",
    "            assert fooo_scope2.name == \"fooo\" ############### 这里不是barr/baz/fooo\n",
    "        "
   ]
  },
  {
   "cell_type": "markdown",
   "metadata": {},
   "source": [
    " "
   ]
  },
  {
   "cell_type": "markdown",
   "metadata": {},
   "source": [
    "  "
   ]
  },
  {
   "cell_type": "markdown",
   "metadata": {},
   "source": [
    "### variable scope中的初始化器"
   ]
  },
  {
   "cell_type": "markdown",
   "metadata": {},
   "source": [
    "`tf.get_variable`有一个initializer参数，在创建一个variable时可以设置初始化器，如果我们想为variable scope下的所有variable都设置同样的初始化器，能否不用每次都在调用get_variable时设定初始化器呢？\n",
    "\n",
    "`tf.variable_scope`也有一个initializer参数，为scope内的所有variable设定初始化器。除非你为某个子scope重新设定初始化器，否则子-scope也会继承这个默认初始化器！"
   ]
  },
  {
   "cell_type": "code",
   "execution_count": null,
   "metadata": {
    "collapsed": true
   },
   "outputs": [],
   "source": [
    "with tf.variable_scope(\"ffooo\", initializer=tf.constant_initializer(0.5)):\n",
    "    v = tf.get_variable(\"v\", [1])\n",
    "    assert v.eval() == 0.5\n",
    "    w = tf.get_variable(\"w\", [1], initializer=tf.constant_initializer(0.3)):\n",
    "    assert w.eval() == 0.3\n",
    "    with tf.variable_scope(\"bar\"):\n",
    "        v = tf.get_variable(\"v\", [1])\n",
    "        assert v.eval() == 0.5 # 继承了默认初始化器\n",
    "    with tf.variable_scope(\"baz\", inititlizer=tf.constant_initializer(0.2)):\n",
    "        v = tf.get_variable(\"v\", [1])\n",
    "        assert v.eval() == 0.2 # 显式修改默认初始化器"
   ]
  },
  {
   "cell_type": "markdown",
   "metadata": {},
   "source": [
    " "
   ]
  },
  {
   "cell_type": "markdown",
   "metadata": {},
   "source": [
    "###  tf.variable_scope()内的其他ops的名字"
   ]
  },
  {
   "cell_type": "markdown",
   "metadata": {},
   "source": [
    "variable scope下的其他ops的名字也会继承scope的前缀。"
   ]
  },
  {
   "cell_type": "code",
   "execution_count": 13,
   "metadata": {
    "collapsed": true
   },
   "outputs": [],
   "source": [
    "with tf.variable_scope(\"fffoo\"):\n",
    "    x = 1.0 + tf.get_variable(\"v\", [1])\n",
    "assert x.op.name == \"fffoo/add\""
   ]
  },
  {
   "cell_type": "markdown",
   "metadata": {},
   "source": [
    " "
   ]
  },
  {
   "cell_type": "markdown",
   "metadata": {},
   "source": [
    "除了`tf.variable_scope`还有一个`tf.name_scope`， name scope只影响ops的名字，不会影响variable的名字。"
   ]
  },
  {
   "cell_type": "code",
   "execution_count": 16,
   "metadata": {
    "collapsed": false
   },
   "outputs": [],
   "source": [
    "with tf.variable_scope(\"foo3\"):\n",
    "    with tf.name_scope(\"bar\"):\n",
    "        v = tf.get_variable(\"v\", [1])\n",
    "        x = 1.0 + v\n",
    "assert v.name == \"foo3/v:0\"\n",
    "assert x.op.name == \"foo3/bar/add\""
   ]
  },
  {
   "cell_type": "code",
   "execution_count": null,
   "metadata": {
    "collapsed": true
   },
   "outputs": [],
   "source": []
  },
  {
   "cell_type": "code",
   "execution_count": null,
   "metadata": {
    "collapsed": true
   },
   "outputs": [],
   "source": []
  },
  {
   "cell_type": "code",
   "execution_count": null,
   "metadata": {
    "collapsed": true
   },
   "outputs": [],
   "source": []
  }
 ],
 "metadata": {
  "kernelspec": {
   "display_name": "Python 2",
   "language": "python",
   "name": "python2"
  },
  "language_info": {
   "codemirror_mode": {
    "name": "ipython",
    "version": 2
   },
   "file_extension": ".py",
   "mimetype": "text/x-python",
   "name": "python",
   "nbconvert_exporter": "python",
   "pygments_lexer": "ipython2",
   "version": "2.7.6"
  }
 },
 "nbformat": 4,
 "nbformat_minor": 2
}
