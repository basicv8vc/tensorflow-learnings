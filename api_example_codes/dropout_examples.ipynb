{
 "cells": [
  {
   "cell_type": "code",
   "execution_count": 1,
   "metadata": {
    "collapsed": true
   },
   "outputs": [],
   "source": [
    "import tensorflow as tf"
   ]
  },
  {
   "cell_type": "code",
   "execution_count": 3,
   "metadata": {
    "collapsed": false
   },
   "outputs": [
    {
     "name": "stdout",
     "output_type": "stream",
     "text": [
      "[[ 2.5  2.5  2.5  2.5  0.   0.   2.5  2.5  2.5  0. ]\n",
      " [ 0.   0.   0.   0.   2.5  0.   2.5  0.   0.   2.5]\n",
      " [ 0.   0.   0.   2.5  2.5  2.5  2.5  2.5  0.   0. ]\n",
      " [ 2.5  2.5  0.   0.   2.5  2.5  2.5  2.5  0.   0. ]\n",
      " [ 0.   2.5  0.   0.   0.   0.   0.   0.   0.   2.5]\n",
      " [ 0.   0.   0.   0.   2.5  2.5  0.   2.5  2.5  2.5]\n",
      " [ 2.5  2.5  2.5  0.   2.5  2.5  0.   0.   2.5  0. ]\n",
      " [ 0.   0.   2.5  2.5  0.   2.5  0.   0.   2.5  2.5]\n",
      " [ 2.5  2.5  0.   2.5  2.5  2.5  0.   0.   0.   0. ]\n",
      " [ 0.   0.   0.   0.   2.5  0.   2.5  0.   2.5  0. ]]\n"
     ]
    }
   ],
   "source": [
    "dropout = tf.placeholder(tf.float32)\n",
    "W = tf.Variable(tf.ones([10, 10]))\n",
    "W_d = tf.nn.dropout(x, dropout)\n",
    "\n",
    "sess = tf.Session()\n",
    "sess.run(tf.global_variables_initializer())\n",
    "\n",
    "print(sess.run(W_d, feed_dict={dropout: 0.4}))"
   ]
  },
  {
   "cell_type": "code",
   "execution_count": null,
   "metadata": {
    "collapsed": true
   },
   "outputs": [],
   "source": []
  }
 ],
 "metadata": {
  "kernelspec": {
   "display_name": "Python 2",
   "language": "python",
   "name": "python2"
  },
  "language_info": {
   "codemirror_mode": {
    "name": "ipython",
    "version": 2
   },
   "file_extension": ".py",
   "mimetype": "text/x-python",
   "name": "python",
   "nbconvert_exporter": "python",
   "pygments_lexer": "ipython2",
   "version": "2.7.6"
  }
 },
 "nbformat": 4,
 "nbformat_minor": 2
}
